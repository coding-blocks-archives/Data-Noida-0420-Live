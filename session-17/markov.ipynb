{
 "cells": [
  {
   "cell_type": "code",
   "execution_count": 1,
   "metadata": {},
   "outputs": [],
   "source": [
    "url = \"https://cb.lk/speech\""
   ]
  },
  {
   "cell_type": "code",
   "execution_count": 39,
   "metadata": {},
   "outputs": [],
   "source": [
    "import requests\n",
    "import random\n",
    "\n",
    "data = requests.get(url)\n",
    "\n",
    "text = data.text"
   ]
  },
  {
   "cell_type": "code",
   "execution_count": 5,
   "metadata": {},
   "outputs": [
    {
     "name": "stdout",
     "output_type": "stream",
     "text": [
      "26 8 2016, India\n",
      "Niti Aayog\n",
      "There was a time when development was believed to depend on the quantity of capital and labour. Today we know that it depends as much on the quality of institutions and ideas. Early last year, a new institution was created, namely, the National Institution for Transforming India or NITI. NITI was created as an evidence based think tank to guide India’s transformation.\n",
      "One of NITI’s functions is:\n",
      "- to mainstream external ideas into Government policies, through collaboration with national and international experts;\n",
      "- to be the Government’s link to the outside world, outside experts and practitioners;\n",
      "- to be the instrument through which ideas from outside are incorporated into policy-making.\n",
      "The Government of India and the State Governments have a long administrative tradition. This tradition combines indigenous and external ideas from India’s past. This administrative tradition has served India well in many ways. Above all, it has preserved democracy and fede\n"
     ]
    }
   ],
   "source": [
    "print(text[:1000])"
   ]
  },
  {
   "cell_type": "code",
   "execution_count": 6,
   "metadata": {},
   "outputs": [
    {
     "data": {
      "text/plain": [
       "1725021"
      ]
     },
     "execution_count": 6,
     "metadata": {},
     "output_type": "execute_result"
    }
   ],
   "source": [
    "len(text)"
   ]
  },
  {
   "cell_type": "code",
   "execution_count": 12,
   "metadata": {},
   "outputs": [],
   "source": [
    "cut = text[1000:1500]"
   ]
  },
  {
   "cell_type": "code",
   "execution_count": 13,
   "metadata": {},
   "outputs": [
    {
     "name": "stdout",
     "output_type": "stream",
     "text": [
      "ralism, unity and integrity, in a country of glorious diversity. These are not small achievements. Yet, we now live in an age where change is constant and we are variables.\n",
      "We must change for both external and internal reasons. Each country has its own experiences, its own resources and its own strengths. Thirty years ago, a country might have been able to look inward and find its own solutions. Today, countries are inter dependent and inter connected. No country can afford any longer to develop\n"
     ]
    }
   ],
   "source": [
    "print(cut)"
   ]
  },
  {
   "cell_type": "code",
   "execution_count": 71,
   "metadata": {},
   "outputs": [],
   "source": [
    "k = 9\n",
    "\n",
    "probabs = {}\n",
    "\n",
    "for i in range(k, len(text)):\n",
    "    present = text[i-k: i]\n",
    "    future =  text[i]\n",
    "    \n",
    "    if present not in probabs:\n",
    "        probabs[present] = {}\n",
    "    \n",
    "    if future not in probabs[present]:\n",
    "        probabs[present][future] = 0\n",
    "    \n",
    "    probabs[present][future] += 1"
   ]
  },
  {
   "cell_type": "code",
   "execution_count": 77,
   "metadata": {},
   "outputs": [],
   "source": [
    "start_loc = random.randint(1000, 2000)\n",
    "\n",
    "seed = text[start_loc:start_loc + 30]"
   ]
  },
  {
   "cell_type": "code",
   "execution_count": 79,
   "metadata": {},
   "outputs": [
    {
     "name": "stdout",
     "output_type": "stream",
     "text": [
      "technology, the situation is o\n"
     ]
    }
   ],
   "source": [
    "print(seed)"
   ]
  },
  {
   "cell_type": "code",
   "execution_count": 80,
   "metadata": {},
   "outputs": [],
   "source": [
    "for i in range(500): \n",
    "    present = seed[-k:]\n",
    "\n",
    "    present\n",
    "\n",
    "    possib = probabs[present]\n",
    "\n",
    "    top_items_count = 2\n",
    "\n",
    "    top_items = sorted(possib.items(), key=lambda item: item[1])[-top_items_count:]\n",
    "\n",
    "    future = random.choice(top_items)[0]\n",
    "\n",
    "    future\n",
    "\n",
    "    seed = seed + future"
   ]
  },
  {
   "cell_type": "code",
   "execution_count": 81,
   "metadata": {},
   "outputs": [
    {
     "name": "stdout",
     "output_type": "stream",
     "text": [
      "technology, the situation is often reversed for skilling our lifestyles, so that together.\n",
      "I am joined on the sea. The common people is clear: To create job opportune momentum is a subject of how to establish an entrepreneurship. \n",
      "Friends,\n",
      "I have an environment formed in Jammu and Kashmir. And hence, once again I will go a long way in ensuring their\n",
      " difference is robust, diverse and yet concerns.\n",
      "I have expression leads a life of possibilities.\n",
      "I have especially the poor.\n",
      "It has brought about it.\n",
      "Sometime when this city of \n"
     ]
    }
   ],
   "source": [
    "print(seed)"
   ]
  },
  {
   "cell_type": "code",
   "execution_count": null,
   "metadata": {},
   "outputs": [],
   "source": []
  }
 ],
 "metadata": {
  "kernelspec": {
   "display_name": "Python 3",
   "language": "python",
   "name": "python3"
  },
  "language_info": {
   "codemirror_mode": {
    "name": "ipython",
    "version": 3
   },
   "file_extension": ".py",
   "mimetype": "text/x-python",
   "name": "python",
   "nbconvert_exporter": "python",
   "pygments_lexer": "ipython3",
   "version": "3.7.2"
  }
 },
 "nbformat": 4,
 "nbformat_minor": 4
}
