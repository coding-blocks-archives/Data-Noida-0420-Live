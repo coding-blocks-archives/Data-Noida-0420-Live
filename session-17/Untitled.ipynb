{
 "cells": [
  {
   "cell_type": "code",
   "execution_count": 5,
   "metadata": {},
   "outputs": [],
   "source": [
    "import requests\n",
    "from bs4 import BeautifulSoup"
   ]
  },
  {
   "cell_type": "code",
   "execution_count": 1,
   "metadata": {},
   "outputs": [],
   "source": [
    "url = \"https://www.goodreads.com/quotes/tag/{}?page={}\""
   ]
  },
  {
   "cell_type": "code",
   "execution_count": 2,
   "metadata": {},
   "outputs": [],
   "source": [
    "emotions = [\"love\", \"religion\"]"
   ]
  },
  {
   "cell_type": "code",
   "execution_count": 3,
   "metadata": {},
   "outputs": [],
   "source": [
    "complete = url.format(emotions[0], 1)"
   ]
  },
  {
   "cell_type": "code",
   "execution_count": 4,
   "metadata": {},
   "outputs": [
    {
     "data": {
      "text/plain": [
       "'https://www.goodreads.com/quotes/tag/love?page=1'"
      ]
     },
     "execution_count": 4,
     "metadata": {},
     "output_type": "execute_result"
    }
   ],
   "source": [
    "complete"
   ]
  },
  {
   "cell_type": "code",
   "execution_count": 17,
   "metadata": {},
   "outputs": [],
   "source": [
    "def get_quotes(complete):\n",
    "    data = requests.get(complete)\n",
    "    soup = BeautifulSoup(data.text)\n",
    "    divs = soup.find_all(\"div\", attrs={\"class\":\"quoteText\"})\n",
    "    quotes = [div.text.strip().split(\"\\n\")[0][1:-1] for div in divs]\n",
    "    return quotes"
   ]
  },
  {
   "cell_type": "code",
   "execution_count": 18,
   "metadata": {},
   "outputs": [
    {
     "name": "stdout",
     "output_type": "stream",
     "text": [
      "processes 1 for love\n",
      "processes 2 for love\n",
      "processes 3 for love\n",
      "processes 4 for love\n",
      "processes 5 for love\n",
      "processes 1 for religion\n",
      "processes 2 for religion\n",
      "processes 3 for religion\n",
      "processes 4 for religion\n",
      "processes 5 for religion\n"
     ]
    }
   ],
   "source": [
    "X, y = [], []\n",
    "\n",
    "for emotion in emotions:\n",
    "    for i in range(1, 6):\n",
    "        complete = url.format(emotion, i)\n",
    "        quotes = get_quotes(complete)\n",
    "        X.extend(quotes)\n",
    "        y.extend([emotion] * len(quotes))\n",
    "        print(\"processes {} for {}\".format(i, emotion))"
   ]
  },
  {
   "cell_type": "code",
   "execution_count": 19,
   "metadata": {},
   "outputs": [],
   "source": [
    "import pandas as pd"
   ]
  },
  {
   "cell_type": "code",
   "execution_count": 22,
   "metadata": {},
   "outputs": [],
   "source": [
    "df = pd.DataFrame(list(zip(y, X)), columns=[\"emotion\", \"quote\"])"
   ]
  },
  {
   "cell_type": "code",
   "execution_count": 24,
   "metadata": {},
   "outputs": [],
   "source": [
    "df.to_csv(\"emotions.csv\", index=False)"
   ]
  },
  {
   "cell_type": "code",
   "execution_count": 25,
   "metadata": {},
   "outputs": [],
   "source": [
    "from sklearn.feature_extraction.text import CountVectorizer"
   ]
  },
  {
   "cell_type": "code",
   "execution_count": 103,
   "metadata": {},
   "outputs": [],
   "source": [
    "vect = CountVectorizer(max_features=500)"
   ]
  },
  {
   "cell_type": "code",
   "execution_count": 104,
   "metadata": {},
   "outputs": [
    {
     "data": {
      "text/plain": [
       "CountVectorizer(analyzer='word', binary=False, decode_error='strict',\n",
       "        dtype=<class 'numpy.int64'>, encoding='utf-8', input='content',\n",
       "        lowercase=True, max_df=1.0, max_features=500, min_df=1,\n",
       "        ngram_range=(1, 1), preprocessor=None, stop_words=None,\n",
       "        strip_accents=None, token_pattern='(?u)\\\\b\\\\w\\\\w+\\\\b',\n",
       "        tokenizer=None, vocabulary=None)"
      ]
     },
     "execution_count": 104,
     "metadata": {},
     "output_type": "execute_result"
    }
   ],
   "source": [
    "vect.fit(X)"
   ]
  },
  {
   "cell_type": "code",
   "execution_count": 105,
   "metadata": {},
   "outputs": [
    {
     "data": {
      "text/plain": [
       "500"
      ]
     },
     "execution_count": 105,
     "metadata": {},
     "output_type": "execute_result"
    }
   ],
   "source": [
    "len(vect.vocabulary_)"
   ]
  },
  {
   "cell_type": "code",
   "execution_count": 106,
   "metadata": {},
   "outputs": [
    {
     "data": {
      "text/plain": [
       "\"I'm selfish, impatient and a little insecure. I make mistakes, I am out of control and at times hard to handle. But if you can't handle me at my worst, then you sure as hell don't deserve me at my best.\""
      ]
     },
     "execution_count": 106,
     "metadata": {},
     "output_type": "execute_result"
    }
   ],
   "source": [
    "X[0]"
   ]
  },
  {
   "cell_type": "code",
   "execution_count": 107,
   "metadata": {},
   "outputs": [],
   "source": [
    "X_mod = vect.transform(X).todense()"
   ]
  },
  {
   "cell_type": "code",
   "execution_count": 108,
   "metadata": {},
   "outputs": [
    {
     "data": {
      "text/plain": [
       "300"
      ]
     },
     "execution_count": 108,
     "metadata": {},
     "output_type": "execute_result"
    }
   ],
   "source": [
    "len(X)"
   ]
  },
  {
   "cell_type": "code",
   "execution_count": 109,
   "metadata": {},
   "outputs": [
    {
     "data": {
      "text/plain": [
       "(300, 500)"
      ]
     },
     "execution_count": 109,
     "metadata": {},
     "output_type": "execute_result"
    }
   ],
   "source": [
    "X_mod.shape"
   ]
  },
  {
   "cell_type": "code",
   "execution_count": 110,
   "metadata": {},
   "outputs": [],
   "source": [
    "from sklearn.model_selection import train_test_split\n",
    "from sklearn.neighbors import KNeighborsClassifier"
   ]
  },
  {
   "cell_type": "code",
   "execution_count": 111,
   "metadata": {},
   "outputs": [],
   "source": [
    "X_train, X_test, y_train, y_test = train_test_split(\n",
    "...     X_mod, y, test_size=0.2, random_state=42)"
   ]
  },
  {
   "cell_type": "code",
   "execution_count": 112,
   "metadata": {},
   "outputs": [],
   "source": [
    "model = KNeighborsClassifier()"
   ]
  },
  {
   "cell_type": "code",
   "execution_count": 113,
   "metadata": {},
   "outputs": [
    {
     "data": {
      "text/plain": [
       "KNeighborsClassifier(algorithm='auto', leaf_size=30, metric='minkowski',\n",
       "           metric_params=None, n_jobs=1, n_neighbors=5, p=2,\n",
       "           weights='uniform')"
      ]
     },
     "execution_count": 113,
     "metadata": {},
     "output_type": "execute_result"
    }
   ],
   "source": [
    "model.fit(X_train, y_train)"
   ]
  },
  {
   "cell_type": "code",
   "execution_count": 114,
   "metadata": {},
   "outputs": [
    {
     "data": {
      "text/plain": [
       "0.7"
      ]
     },
     "execution_count": 114,
     "metadata": {},
     "output_type": "execute_result"
    }
   ],
   "source": [
    "model.score(X_test, y_test)"
   ]
  },
  {
   "cell_type": "code",
   "execution_count": null,
   "metadata": {},
   "outputs": [],
   "source": []
  },
  {
   "cell_type": "code",
   "execution_count": 115,
   "metadata": {},
   "outputs": [],
   "source": [
    "from sklearn.naive_bayes import BernoulliNB"
   ]
  },
  {
   "cell_type": "code",
   "execution_count": 116,
   "metadata": {},
   "outputs": [],
   "source": [
    "model = BernoulliNB()"
   ]
  },
  {
   "cell_type": "code",
   "execution_count": 117,
   "metadata": {},
   "outputs": [
    {
     "data": {
      "text/plain": [
       "BernoulliNB(alpha=1.0, binarize=0.0, class_prior=None, fit_prior=True)"
      ]
     },
     "execution_count": 117,
     "metadata": {},
     "output_type": "execute_result"
    }
   ],
   "source": [
    "model.fit(X_train, y_train)"
   ]
  },
  {
   "cell_type": "code",
   "execution_count": 118,
   "metadata": {},
   "outputs": [
    {
     "data": {
      "text/plain": [
       "0.8833333333333333"
      ]
     },
     "execution_count": 118,
     "metadata": {},
     "output_type": "execute_result"
    }
   ],
   "source": [
    "model.score(X_test, y_test)"
   ]
  },
  {
   "cell_type": "code",
   "execution_count": 122,
   "metadata": {},
   "outputs": [],
   "source": [
    "line = \"To me, Fearless is not the absense of fear. It's not being completely unafraid. To me, Fearless is having fears. Fearless is having doubts. Lots of them. To me, Fearless is living in spite of those things that scare you to death.\""
   ]
  },
  {
   "cell_type": "code",
   "execution_count": 123,
   "metadata": {},
   "outputs": [],
   "source": [
    "X_vec = vect.transform([line]).todense()"
   ]
  },
  {
   "cell_type": "code",
   "execution_count": 124,
   "metadata": {},
   "outputs": [
    {
     "data": {
      "text/plain": [
       "array(['religion'], dtype='<U8')"
      ]
     },
     "execution_count": 124,
     "metadata": {},
     "output_type": "execute_result"
    }
   ],
   "source": [
    "model.predict(X_vec)"
   ]
  },
  {
   "cell_type": "code",
   "execution_count": 125,
   "metadata": {},
   "outputs": [
    {
     "data": {
      "text/plain": [
       "{'selfish': 369,\n",
       " 'and': 15,\n",
       " 'little': 229,\n",
       " 'make': 248,\n",
       " 'mistakes': 270,\n",
       " 'am': 13,\n",
       " 'out': 317,\n",
       " 'of': 297,\n",
       " 'control': 69,\n",
       " 'at': 27,\n",
       " 'times': 443,\n",
       " 'hard': 165,\n",
       " 'to': 444,\n",
       " 'but': 52,\n",
       " 'if': 192,\n",
       " 'you': 497,\n",
       " 'can': 56,\n",
       " 'me': 257,\n",
       " 'my': 280,\n",
       " 'worst': 492,\n",
       " 'then': 429,\n",
       " 'sure': 416,\n",
       " 'as': 25,\n",
       " 'hell': 177,\n",
       " 'don': 90,\n",
       " 'deserve': 78,\n",
       " 'best': 43,\n",
       " 've': 460,\n",
       " 'like': 228,\n",
       " 'there': 430,\n",
       " 'nobody': 291,\n",
       " 'love': 241,\n",
       " 'll': 233,\n",
       " 'never': 286,\n",
       " 'be': 33,\n",
       " 'hurt': 189,\n",
       " 'sing': 384,\n",
       " 'live': 230,\n",
       " 'it': 202,\n",
       " 'heaven': 175,\n",
       " 'on': 301,\n",
       " 'earth': 99,\n",
       " 'know': 214,\n",
       " 're': 344,\n",
       " 'in': 195,\n",
       " 'when': 476,\n",
       " 'fall': 119,\n",
       " 'asleep': 26,\n",
       " 'because': 37,\n",
       " 'is': 200,\n",
       " 'finally': 126,\n",
       " 'better': 44,\n",
       " 'than': 423,\n",
       " 'your': 498,\n",
       " 'dreams': 96,\n",
       " 'friend': 136,\n",
       " 'someone': 393,\n",
       " 'who': 479,\n",
       " 'knows': 217,\n",
       " 'all': 8,\n",
       " 'about': 1,\n",
       " 'still': 407,\n",
       " 'loves': 244,\n",
       " 'darkness': 74,\n",
       " 'cannot': 57,\n",
       " 'only': 305,\n",
       " 'light': 227,\n",
       " 'do': 86,\n",
       " 'that': 424,\n",
       " 'hate': 167,\n",
       " 'we': 471,\n",
       " 'the': 425,\n",
       " 'think': 435,\n",
       " 'for': 131,\n",
       " 'what': 474,\n",
       " 'are': 22,\n",
       " 'loved': 242,\n",
       " 'not': 293,\n",
       " 'once': 302,\n",
       " 'life': 226,\n",
       " 'truly': 449,\n",
       " 'believe': 42,\n",
       " 'find': 127,\n",
       " 'completely': 68,\n",
       " 'turn': 452,\n",
       " 'world': 491,\n",
       " 'around': 23,\n",
       " 'tell': 421,\n",
       " 'them': 427,\n",
       " 'things': 434,\n",
       " 'with': 485,\n",
       " 'another': 16,\n",
       " 'soul': 399,\n",
       " 'they': 432,\n",
       " 'everything': 112,\n",
       " 'say': 361,\n",
       " 'actually': 4,\n",
       " 'want': 465,\n",
       " 'more': 274,\n",
       " 'hopes': 186,\n",
       " 'will': 483,\n",
       " 'come': 65,\n",
       " 'true': 448,\n",
       " 'were': 473,\n",
       " 'many': 252,\n",
       " 'has': 166,\n",
       " 'something': 394,\n",
       " 'happens': 163,\n",
       " 'knowing': 215,\n",
       " 'or': 310,\n",
       " 'laugh': 219,\n",
       " 'yourself': 499,\n",
       " 'feelings': 123,\n",
       " 'feel': 121,\n",
       " 'good': 152,\n",
       " 'enough': 105,\n",
       " 'rather': 343,\n",
       " 'up': 457,\n",
       " 'show': 378,\n",
       " 'special': 401,\n",
       " 'even': 107,\n",
       " 'beautiful': 35,\n",
       " 'any': 18,\n",
       " 'seem': 365,\n",
       " 'most': 275,\n",
       " 'people': 325,\n",
       " 'such': 411,\n",
       " 'song': 397,\n",
       " 'walk': 464,\n",
       " 'become': 38,\n",
       " 'safe': 358,\n",
       " 'heart': 173,\n",
       " 'forever': 133,\n",
       " 'memories': 262,\n",
       " 'back': 31,\n",
       " 'so': 389,\n",
       " 'being': 41,\n",
       " 'again': 6,\n",
       " 'laughter': 220,\n",
       " 'seems': 366,\n",
       " 'part': 323,\n",
       " 'where': 477,\n",
       " 'before': 40,\n",
       " 'was': 468,\n",
       " 'didn': 81,\n",
       " 'exist': 114,\n",
       " 'call': 54,\n",
       " 'two': 453,\n",
       " 'day': 75,\n",
       " 'get': 141,\n",
       " 'through': 441,\n",
       " 'long': 234,\n",
       " 'always': 12,\n",
       " 'smile': 387,\n",
       " 'their': 426,\n",
       " 'presence': 338,\n",
       " 'no': 290,\n",
       " 'need': 283,\n",
       " 'just': 206,\n",
       " 'having': 170,\n",
       " 'important': 194,\n",
       " 'this': 437,\n",
       " 'person': 328,\n",
       " 'every': 109,\n",
       " 'simple': 382,\n",
       " 'mind': 267,\n",
       " 'sky': 385,\n",
       " 'open': 307,\n",
       " 'may': 255,\n",
       " 'broken': 51,\n",
       " 'one': 303,\n",
       " 'experience': 115,\n",
       " 'dreamed': 95,\n",
       " 'possible': 336,\n",
       " 'vulnerable': 463,\n",
       " 'way': 470,\n",
       " 'pleasure': 333,\n",
       " 'real': 346,\n",
       " 'strength': 408,\n",
       " 'have': 169,\n",
       " 'mate': 253,\n",
       " 'remain': 352,\n",
       " 'end': 103,\n",
       " 'different': 85,\n",
       " 'hope': 184,\n",
       " 'he': 171,\n",
       " 'fell': 124,\n",
       " 'opposite': 309,\n",
       " 'indifference': 196,\n",
       " 'art': 24,\n",
       " 'faith': 118,\n",
       " 'death': 76,\n",
       " 'friendship': 138,\n",
       " 'makes': 249,\n",
       " 'without': 486,\n",
       " 'how': 187,\n",
       " 'from': 139,\n",
       " 'simply': 383,\n",
       " 'other': 312,\n",
       " 'loving': 245,\n",
       " 'which': 478,\n",
       " 'hand': 160,\n",
       " 'upon': 458,\n",
       " 'eyes': 116,\n",
       " 'trust': 450,\n",
       " 'wrong': 494,\n",
       " 'ever': 108,\n",
       " 'been': 39,\n",
       " 'isn': 201,\n",
       " 'opens': 308,\n",
       " 'means': 260,\n",
       " 'inside': 197,\n",
       " 'mess': 265,\n",
       " 'by': 53,\n",
       " 'gives': 146,\n",
       " 'matter': 254,\n",
       " 'going': 150,\n",
       " 'sometimes': 395,\n",
       " 'truth': 451,\n",
       " 'girls': 143,\n",
       " 'friends': 137,\n",
       " 'act': 3,\n",
       " 'remember': 353,\n",
       " 'some': 390,\n",
       " 'go': 147,\n",
       " 'ones': 304,\n",
       " 'stay': 406,\n",
       " 'let': 224,\n",
       " 'also': 11,\n",
       " 'well': 472,\n",
       " 'too': 446,\n",
       " 'much': 276,\n",
       " 'break': 50,\n",
       " 'give': 144,\n",
       " 'whole': 480,\n",
       " 'doesn': 88,\n",
       " 'mean': 258,\n",
       " 'gonna': 151,\n",
       " 'keep': 208,\n",
       " 'hold': 183,\n",
       " 'head': 172,\n",
       " 'smiling': 388,\n",
       " 'thing': 433,\n",
       " 'time': 442,\n",
       " 'place': 331,\n",
       " 'moment': 272,\n",
       " 'own': 319,\n",
       " 'her': 178,\n",
       " 'first': 129,\n",
       " 'last': 218,\n",
       " 'she': 375,\n",
       " 'now': 295,\n",
       " 'else': 102,\n",
       " 'perfect': 326,\n",
       " 'either': 101,\n",
       " 'together': 445,\n",
       " 'human': 188,\n",
       " 'making': 250,\n",
       " 'onto': 306,\n",
       " 'thinking': 436,\n",
       " 'change': 60,\n",
       " 'happy': 164,\n",
       " 'mad': 246,\n",
       " 'him': 180,\n",
       " 'said': 359,\n",
       " 'could': 71,\n",
       " 'see': 364,\n",
       " 'his': 182,\n",
       " 'myself': 281,\n",
       " 'into': 199,\n",
       " 'our': 315,\n",
       " 'sun': 413,\n",
       " 'nothing': 294,\n",
       " 'common': 67,\n",
       " 'man': 251,\n",
       " 'soon': 398,\n",
       " 'looks': 238,\n",
       " 'everyone': 111,\n",
       " 'wants': 467,\n",
       " 'meet': 261,\n",
       " 'down': 93,\n",
       " 'painful': 321,\n",
       " 'leave': 222,\n",
       " 'apart': 21,\n",
       " 'new': 287,\n",
       " 'fact': 117,\n",
       " 'woman': 487,\n",
       " 'anything': 20,\n",
       " 'whose': 481,\n",
       " 'would': 493,\n",
       " 'those': 438,\n",
       " 'really': 348,\n",
       " 'dies': 83,\n",
       " 'its': 203,\n",
       " 'had': 159,\n",
       " 'thought': 440,\n",
       " 'lover': 243,\n",
       " 'keeping': 209,\n",
       " 'must': 279,\n",
       " 'an': 14,\n",
       " 'dark': 73,\n",
       " 'away': 30,\n",
       " 'full': 140,\n",
       " 'after': 5,\n",
       " 'teach': 420,\n",
       " 'somebody': 391,\n",
       " 'poor': 335,\n",
       " 'die': 82,\n",
       " 'big': 46,\n",
       " 'very': 461,\n",
       " 'easy': 100,\n",
       " 'everyday': 110,\n",
       " 'certain': 59,\n",
       " 'shadow': 374,\n",
       " 'guy': 158,\n",
       " 'same': 360,\n",
       " 'understand': 454,\n",
       " 'right': 356,\n",
       " 'promise': 339,\n",
       " 'idea': 191,\n",
       " 'sight': 381,\n",
       " 'might': 266,\n",
       " 'us': 459,\n",
       " 'reason': 349,\n",
       " 'bad': 32,\n",
       " 'somehow': 392,\n",
       " 'kind': 212,\n",
       " 'does': 87,\n",
       " 'self': 368,\n",
       " 'evil': 113,\n",
       " 'perhaps': 327,\n",
       " 'lives': 231,\n",
       " 'beauty': 36,\n",
       " 'universe': 455,\n",
       " 'carry': 58,\n",
       " 'whatever': 475,\n",
       " 'done': 91,\n",
       " 'doing': 89,\n",
       " 'fear': 120,\n",
       " 'here': 179,\n",
       " 'called': 55,\n",
       " 'stars': 405,\n",
       " 'dream': 94,\n",
       " 'anyone': 19,\n",
       " 'side': 380,\n",
       " 'each': 98,\n",
       " 'hates': 168,\n",
       " 'looking': 237,\n",
       " 'took': 447,\n",
       " 'years': 496,\n",
       " 'living': 232,\n",
       " 'alone': 10,\n",
       " 'left': 223,\n",
       " 'strong': 409,\n",
       " 'peace': 324,\n",
       " 'look': 235,\n",
       " 'forget': 134,\n",
       " 'greater': 156,\n",
       " 'others': 313,\n",
       " 'words': 490,\n",
       " 'great': 155,\n",
       " 'women': 488,\n",
       " 'choose': 62,\n",
       " 'follow': 130,\n",
       " 'men': 263,\n",
       " 'happen': 162,\n",
       " 'should': 377,\n",
       " 'pain': 320,\n",
       " 'lot': 240,\n",
       " 'imagine': 193,\n",
       " 'girl': 142,\n",
       " 'question': 341,\n",
       " 'wanted': 466,\n",
       " 'fire': 128,\n",
       " 'hearts': 174,\n",
       " 'minds': 268,\n",
       " 'given': 145,\n",
       " 'hoped': 185,\n",
       " 'souls': 400,\n",
       " 'made': 247,\n",
       " 'offer': 298,\n",
       " 'learn': 221,\n",
       " 'ourselves': 316,\n",
       " 'until': 456,\n",
       " 'differences': 84,\n",
       " 'did': 80,\n",
       " 'why': 482,\n",
       " 'doubt': 92,\n",
       " 'above': 2,\n",
       " 'lies': 225,\n",
       " 'himself': 181,\n",
       " 'comes': 66,\n",
       " 'point': 334,\n",
       " 'respect': 354,\n",
       " 'looked': 236,\n",
       " 'supposed': 415,\n",
       " 'word': 489,\n",
       " 'stupid': 410,\n",
       " 'sick': 379,\n",
       " 'heavens': 176,\n",
       " 'maybe': 256,\n",
       " 'convinced': 70,\n",
       " 'bear': 34,\n",
       " 'needs': 284,\n",
       " 'books': 47,\n",
       " 'felt': 125,\n",
       " 'feeling': 122,\n",
       " 'night': 289,\n",
       " 'these': 431,\n",
       " 'order': 311,\n",
       " 'small': 386,\n",
       " 'piece': 329,\n",
       " 'take': 418,\n",
       " 'takes': 419,\n",
       " 'ready': 345,\n",
       " 'places': 332,\n",
       " 'though': 439,\n",
       " 'hurts': 190,\n",
       " 'seen': 367,\n",
       " 'short': 376,\n",
       " 'instead': 198,\n",
       " 'bread': 49,\n",
       " 'realize': 347,\n",
       " 'put': 340,\n",
       " 'themselves': 428,\n",
       " 'god': 148,\n",
       " 'suspect': 417,\n",
       " 'run': 357,\n",
       " 'against': 7,\n",
       " 'got': 153,\n",
       " 'kill': 211,\n",
       " 'both': 48,\n",
       " 'greatest': 157,\n",
       " 'answer': 17,\n",
       " 'prayer': 337,\n",
       " 'says': 362,\n",
       " 'temple': 422,\n",
       " 'somewhere': 396,\n",
       " 'music': 277,\n",
       " 'stand': 404,\n",
       " 'old': 300,\n",
       " 'depends': 77,\n",
       " 'suddenly': 412,\n",
       " 'especially': 106,\n",
       " 'meaning': 259,\n",
       " 'desire': 79,\n",
       " 'church': 64,\n",
       " 'christian': 63,\n",
       " 'science': 363,\n",
       " 'religion': 350,\n",
       " 'questions': 342,\n",
       " 'nor': 292,\n",
       " 'odds': 296,\n",
       " 'itself': 204,\n",
       " 'money': 273,\n",
       " 'atheism': 28,\n",
       " 'found': 135,\n",
       " 'water': 469,\n",
       " 'gods': 149,\n",
       " 'lord': 239,\n",
       " 'child': 61,\n",
       " 'pit': 330,\n",
       " 'bible': 45,\n",
       " 'next': 288,\n",
       " 'merely': 264,\n",
       " 'mistake': 269,\n",
       " 'willing': 484,\n",
       " 'able': 0,\n",
       " 'neither': 285,\n",
       " 'grasp': 154,\n",
       " 'seriously': 373,\n",
       " 'force': 132,\n",
       " 'couldn': 72,\n",
       " 'atheist': 29,\n",
       " 'ridiculous': 355,\n",
       " 'spirit': 402,\n",
       " 'enemy': 104,\n",
       " 'knowledge': 216,\n",
       " 'often': 299,\n",
       " 'view': 462,\n",
       " 'sense': 372,\n",
       " 'spirituality': 403,\n",
       " 'ought': 314,\n",
       " 'modern': 271,\n",
       " 'semua': 371,\n",
       " 'kehidupan': 210,\n",
       " 'itu': 205,\n",
       " 'hanya': 161,\n",
       " 'katakanlah': 207,\n",
       " 'dunia': 97,\n",
       " 'allah': 9,\n",
       " 'semoga': 370,\n",
       " 'yang': 495,\n",
       " 'kita': 213,\n",
       " 'religions': 351,\n",
       " 'over': 318,\n",
       " 'muslim': 278,\n",
       " 'parents': 322,\n",
       " 'supernatural': 414,\n",
       " 'mysterious': 282}"
      ]
     },
     "execution_count": 125,
     "metadata": {},
     "output_type": "execute_result"
    }
   ],
   "source": [
    "vect.vocabulary_"
   ]
  },
  {
   "cell_type": "code",
   "execution_count": null,
   "metadata": {},
   "outputs": [],
   "source": []
  }
 ],
 "metadata": {
  "kernelspec": {
   "display_name": "Python 3",
   "language": "python",
   "name": "python3"
  },
  "language_info": {
   "codemirror_mode": {
    "name": "ipython",
    "version": 3
   },
   "file_extension": ".py",
   "mimetype": "text/x-python",
   "name": "python",
   "nbconvert_exporter": "python",
   "pygments_lexer": "ipython3",
   "version": "3.7.2"
  }
 },
 "nbformat": 4,
 "nbformat_minor": 4
}
