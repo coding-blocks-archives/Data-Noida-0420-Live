{
  "nbformat": 4,
  "nbformat_minor": 0,
  "metadata": {
    "kernelspec": {
      "display_name": "Python 3",
      "language": "python",
      "name": "python3"
    },
    "language_info": {
      "codemirror_mode": {
        "name": "ipython",
        "version": 3
      },
      "file_extension": ".py",
      "mimetype": "text/x-python",
      "name": "python",
      "nbconvert_exporter": "python",
      "pygments_lexer": "ipython3",
      "version": "3.6.10"
    },
    "colab": {
      "name": "cnn mnist.ipynb",
      "provenance": []
    },
    "accelerator": "GPU"
  },
  "cells": [
    {
      "cell_type": "code",
      "metadata": {
        "id": "uIOKGpRP0c2J",
        "colab_type": "code",
        "colab": {}
      },
      "source": [
        "import numpy as np\n",
        "import matplotlib.pyplot as plt\n",
        "\n",
        "from tensorflow.keras.datasets import mnist\n",
        "from tensorflow.keras.utils import to_categorical"
      ],
      "execution_count": 0,
      "outputs": []
    },
    {
      "cell_type": "code",
      "metadata": {
        "id": "G-7QzGAu0c2S",
        "colab_type": "code",
        "colab": {}
      },
      "source": [
        "(x_train, y_train), (x_test, y_test) = mnist.load_data()"
      ],
      "execution_count": 0,
      "outputs": []
    },
    {
      "cell_type": "code",
      "metadata": {
        "id": "MR8DXvGq0c2Z",
        "colab_type": "code",
        "colab": {}
      },
      "source": [
        ""
      ],
      "execution_count": 0,
      "outputs": []
    },
    {
      "cell_type": "code",
      "metadata": {
        "id": "J5oY2k6m0c2e",
        "colab_type": "code",
        "colab": {}
      },
      "source": [
        "from tensorflow.keras.layers import Input, Dense, Reshape, Flatten, Conv2D, MaxPooling2D\n",
        "from tensorflow.keras.models import Model"
      ],
      "execution_count": 0,
      "outputs": []
    },
    {
      "cell_type": "code",
      "metadata": {
        "id": "CjFsmOit0c2k",
        "colab_type": "code",
        "colab": {}
      },
      "source": [
        "in_layer = Input(shape=(28, 28))\n",
        "reshaped = Reshape(target_shape=(28, 28, 1))(in_layer)\n",
        "conv = Conv2D(filters=60, kernel_size=3)(reshaped)\n",
        "pooling = MaxPooling2D()(conv) \n",
        "conv = Conv2D(filters=60, kernel_size=3)(pooling)\n",
        "pooling = MaxPooling2D()(conv) \n",
        "conv = Conv2D(filters=60, kernel_size=3)(pooling)\n",
        "pooling = MaxPooling2D()(conv) \n",
        "flat = Flatten()(pooling)\n",
        "d1 = Dense(units=400, activation=\"tanh\")(flat)\n",
        "d2 = Dense(units=100, activation=\"tanh\")(d1)\n",
        "out_layer = Dense(units=10, activation=\"softmax\")(d2)"
      ],
      "execution_count": 0,
      "outputs": []
    },
    {
      "cell_type": "code",
      "metadata": {
        "id": "QQAATO4Y0c2o",
        "colab_type": "code",
        "colab": {}
      },
      "source": [
        "model = Model(in_layer, out_layer)"
      ],
      "execution_count": 0,
      "outputs": []
    },
    {
      "cell_type": "code",
      "metadata": {
        "id": "YF_jL0-_0c2u",
        "colab_type": "code",
        "colab": {
          "base_uri": "https://localhost:8080/",
          "height": 561
        },
        "outputId": "a5e09802-d5af-4ef1-f15c-2cb89b5909de"
      },
      "source": [
        "model.summary()"
      ],
      "execution_count": 15,
      "outputs": [
        {
          "output_type": "stream",
          "text": [
            "Model: \"model_1\"\n",
            "_________________________________________________________________\n",
            "Layer (type)                 Output Shape              Param #   \n",
            "=================================================================\n",
            "input_3 (InputLayer)         [(None, 28, 28)]          0         \n",
            "_________________________________________________________________\n",
            "reshape_2 (Reshape)          (None, 28, 28, 1)         0         \n",
            "_________________________________________________________________\n",
            "conv2d_2 (Conv2D)            (None, 26, 26, 60)        600       \n",
            "_________________________________________________________________\n",
            "max_pooling2d_1 (MaxPooling2 (None, 13, 13, 60)        0         \n",
            "_________________________________________________________________\n",
            "conv2d_3 (Conv2D)            (None, 11, 11, 60)        32460     \n",
            "_________________________________________________________________\n",
            "max_pooling2d_2 (MaxPooling2 (None, 5, 5, 60)          0         \n",
            "_________________________________________________________________\n",
            "conv2d_4 (Conv2D)            (None, 3, 3, 60)          32460     \n",
            "_________________________________________________________________\n",
            "max_pooling2d_3 (MaxPooling2 (None, 1, 1, 60)          0         \n",
            "_________________________________________________________________\n",
            "flatten_1 (Flatten)          (None, 60)                0         \n",
            "_________________________________________________________________\n",
            "dense_3 (Dense)              (None, 400)               24400     \n",
            "_________________________________________________________________\n",
            "dense_4 (Dense)              (None, 100)               40100     \n",
            "_________________________________________________________________\n",
            "dense_5 (Dense)              (None, 10)                1010      \n",
            "=================================================================\n",
            "Total params: 131,030\n",
            "Trainable params: 131,030\n",
            "Non-trainable params: 0\n",
            "_________________________________________________________________\n"
          ],
          "name": "stdout"
        }
      ]
    },
    {
      "cell_type": "code",
      "metadata": {
        "id": "JTRYuItl0c26",
        "colab_type": "code",
        "colab": {}
      },
      "source": [
        "model.compile(optimizer=\"adam\", loss=\"categorical_crossentropy\", metrics=[\"accuracy\"])"
      ],
      "execution_count": 0,
      "outputs": []
    },
    {
      "cell_type": "code",
      "metadata": {
        "id": "MJjiXnCo0c2_",
        "colab_type": "code",
        "colab": {
          "base_uri": "https://localhost:8080/",
          "height": 374
        },
        "outputId": "0f57b99d-3e7e-44c9-b7d6-596a7c46b42b"
      },
      "source": [
        "model.fit(x_train, to_categorical(y_train, num_classes=10), batch_size=1000, epochs=10)"
      ],
      "execution_count": 17,
      "outputs": [
        {
          "output_type": "stream",
          "text": [
            "Epoch 1/10\n",
            "60/60 [==============================] - 3s 45ms/step - loss: 0.5968 - accuracy: 0.8253\n",
            "Epoch 2/10\n",
            "60/60 [==============================] - 3s 45ms/step - loss: 0.1595 - accuracy: 0.9533\n",
            "Epoch 3/10\n",
            "60/60 [==============================] - 3s 45ms/step - loss: 0.1105 - accuracy: 0.9664\n",
            "Epoch 4/10\n",
            "60/60 [==============================] - 3s 45ms/step - loss: 0.0872 - accuracy: 0.9736\n",
            "Epoch 5/10\n",
            "60/60 [==============================] - 3s 45ms/step - loss: 0.0707 - accuracy: 0.9787\n",
            "Epoch 6/10\n",
            "60/60 [==============================] - 3s 45ms/step - loss: 0.0605 - accuracy: 0.9819\n",
            "Epoch 7/10\n",
            "60/60 [==============================] - 3s 45ms/step - loss: 0.0531 - accuracy: 0.9839\n",
            "Epoch 8/10\n",
            "60/60 [==============================] - 3s 45ms/step - loss: 0.0442 - accuracy: 0.9867\n",
            "Epoch 9/10\n",
            "60/60 [==============================] - 3s 45ms/step - loss: 0.0392 - accuracy: 0.9882\n",
            "Epoch 10/10\n",
            "60/60 [==============================] - 3s 45ms/step - loss: 0.0383 - accuracy: 0.9883\n"
          ],
          "name": "stdout"
        },
        {
          "output_type": "execute_result",
          "data": {
            "text/plain": [
              "<tensorflow.python.keras.callbacks.History at 0x7fd8de0bbe10>"
            ]
          },
          "metadata": {
            "tags": []
          },
          "execution_count": 17
        }
      ]
    },
    {
      "cell_type": "code",
      "metadata": {
        "id": "_96RX97u0c3F",
        "colab_type": "code",
        "colab": {
          "base_uri": "https://localhost:8080/",
          "height": 51
        },
        "outputId": "1e31a8db-9042-49fa-8543-cf06def377d9"
      },
      "source": [
        "model.evaluate(x_train, to_categorical(y_train, num_classes=10))\n",
        "\n"
      ],
      "execution_count": 18,
      "outputs": [
        {
          "output_type": "stream",
          "text": [
            "1875/1875 [==============================] - 7s 4ms/step - loss: 0.0364 - accuracy: 0.9884\n"
          ],
          "name": "stdout"
        },
        {
          "output_type": "execute_result",
          "data": {
            "text/plain": [
              "[0.036387111991643906, 0.9884166717529297]"
            ]
          },
          "metadata": {
            "tags": []
          },
          "execution_count": 18
        }
      ]
    },
    {
      "cell_type": "code",
      "metadata": {
        "id": "OFK0v9Sy4RZx",
        "colab_type": "code",
        "colab": {
          "base_uri": "https://localhost:8080/",
          "height": 51
        },
        "outputId": "671afb4a-c4c2-437a-b44b-741a44dd8f1f"
      },
      "source": [
        "model.evaluate(x_test, to_categorical(y_test, num_classes=10))"
      ],
      "execution_count": 19,
      "outputs": [
        {
          "output_type": "stream",
          "text": [
            "313/313 [==============================] - 1s 4ms/step - loss: 0.0735 - accuracy: 0.9787\n"
          ],
          "name": "stdout"
        },
        {
          "output_type": "execute_result",
          "data": {
            "text/plain": [
              "[0.0734923854470253, 0.9786999821662903]"
            ]
          },
          "metadata": {
            "tags": []
          },
          "execution_count": 19
        }
      ]
    },
    {
      "cell_type": "code",
      "metadata": {
        "id": "8Bt7iabl4Wgu",
        "colab_type": "code",
        "colab": {}
      },
      "source": [
        ""
      ],
      "execution_count": 0,
      "outputs": []
    }
  ]
}