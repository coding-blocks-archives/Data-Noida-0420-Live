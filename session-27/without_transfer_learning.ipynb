{
  "nbformat": 4,
  "nbformat_minor": 0,
  "metadata": {
    "colab": {
      "name": "without transfer learning.ipynb",
      "provenance": [],
      "toc_visible": true
    },
    "kernelspec": {
      "name": "python3",
      "display_name": "Python 3"
    },
    "accelerator": "GPU"
  },
  "cells": [
    {
      "cell_type": "code",
      "metadata": {
        "id": "KVYSVhE8QIWb",
        "colab_type": "code",
        "colab": {
          "base_uri": "https://localhost:8080/",
          "height": 153
        },
        "outputId": "0695a64d-b651-4f3f-83d8-c38efe8a5cb1"
      },
      "source": [
        "! kaggle"
      ],
      "execution_count": 1,
      "outputs": [
        {
          "output_type": "stream",
          "text": [
            "Traceback (most recent call last):\n",
            "  File \"/usr/local/bin/kaggle\", line 5, in <module>\n",
            "    from kaggle.cli import main\n",
            "  File \"/usr/local/lib/python2.7/dist-packages/kaggle/__init__.py\", line 23, in <module>\n",
            "    api.authenticate()\n",
            "  File \"/usr/local/lib/python2.7/dist-packages/kaggle/api/kaggle_api_extended.py\", line 146, in authenticate\n",
            "    self.config_file, self.config_dir))\n",
            "IOError: Could not find kaggle.json. Make sure it's located in /root/.kaggle. Or use the environment method.\n"
          ],
          "name": "stdout"
        }
      ]
    },
    {
      "cell_type": "code",
      "metadata": {
        "id": "2OPYmyKUQM-Z",
        "colab_type": "code",
        "colab": {}
      },
      "source": [
        "! cp kaggle.json /root/.kaggle/kaggle.json"
      ],
      "execution_count": 0,
      "outputs": []
    },
    {
      "cell_type": "code",
      "metadata": {
        "id": "S_UGb3imREQ9",
        "colab_type": "code",
        "colab": {
          "base_uri": "https://localhost:8080/",
          "height": 88
        },
        "outputId": "c7dead32-3b8b-4ade-d32c-b3cfa95fcd41"
      },
      "source": [
        "! kaggle"
      ],
      "execution_count": 3,
      "outputs": [
        {
          "output_type": "stream",
          "text": [
            "Warning: Your Kaggle API key is readable by other users on this system! To fix this, you can run 'chmod 600 /root/.kaggle/kaggle.json'\n",
            "usage: kaggle [-h] [-v] {competitions,c,datasets,d,kernels,k,config} ...\n",
            "kaggle: error: too few arguments\n"
          ],
          "name": "stdout"
        }
      ]
    },
    {
      "cell_type": "code",
      "metadata": {
        "id": "s9XoljQwRGZY",
        "colab_type": "code",
        "colab": {}
      },
      "source": [
        "! chmod 600 /root/.kaggle/kaggle.json"
      ],
      "execution_count": 0,
      "outputs": []
    },
    {
      "cell_type": "code",
      "metadata": {
        "id": "joxcg71KRM5x",
        "colab_type": "code",
        "colab": {
          "base_uri": "https://localhost:8080/",
          "height": 68
        },
        "outputId": "bc50e39b-9949-43dd-8f76-50fcd0605ebf"
      },
      "source": [
        "! kaggle datasets download ellenyusa/4classimages"
      ],
      "execution_count": 5,
      "outputs": [
        {
          "output_type": "stream",
          "text": [
            "Downloading 4classimages.zip to /content\n",
            " 86% 33.0M/38.5M [00:00<00:00, 23.5MB/s]\n",
            "100% 38.5M/38.5M [00:00<00:00, 41.8MB/s]\n"
          ],
          "name": "stdout"
        }
      ]
    },
    {
      "cell_type": "code",
      "metadata": {
        "id": "sWxLP5XVRxSc",
        "colab_type": "code",
        "colab": {}
      },
      "source": [
        "# ! kaggle datasets download thedagger/pokemon-generation-one"
      ],
      "execution_count": 0,
      "outputs": []
    },
    {
      "cell_type": "code",
      "metadata": {
        "id": "D6mQWCXFTC8w",
        "colab_type": "code",
        "colab": {}
      },
      "source": [
        "! unzip -qq 4classimages.zip"
      ],
      "execution_count": 0,
      "outputs": []
    },
    {
      "cell_type": "code",
      "metadata": {
        "id": "lM63o6I_TSWW",
        "colab_type": "code",
        "colab": {}
      },
      "source": [
        "! rm -rf data/data"
      ],
      "execution_count": 0,
      "outputs": []
    },
    {
      "cell_type": "code",
      "metadata": {
        "id": "QXIPQg2GSHl3",
        "colab_type": "code",
        "colab": {}
      },
      "source": [
        "import numpy as np\n",
        "import matplotlib.pyplot as plt\n",
        "\n",
        "from tensorflow.keras.datasets import mnist\n",
        "from tensorflow.keras.utils import to_categorical"
      ],
      "execution_count": 0,
      "outputs": []
    },
    {
      "cell_type": "code",
      "metadata": {
        "id": "8gmkyQnDSySZ",
        "colab_type": "code",
        "colab": {
          "base_uri": "https://localhost:8080/",
          "height": 34
        },
        "outputId": "9c0edc7d-2655-4fd0-80db-a1971362baed"
      },
      "source": [
        "from tensorflow.keras.preprocessing.image import ImageDataGenerator\n",
        "\n",
        "gen = ImageDataGenerator(rotation_range=15, shear_range=.1, zoom_range=.3)\n",
        "\n",
        "generator = gen.flow_from_directory(\"data/\")"
      ],
      "execution_count": 11,
      "outputs": [
        {
          "output_type": "stream",
          "text": [
            "Found 808 images belonging to 4 classes.\n"
          ],
          "name": "stdout"
        }
      ]
    },
    {
      "cell_type": "code",
      "metadata": {
        "id": "Qx2CBt8PTYZK",
        "colab_type": "code",
        "colab": {
          "base_uri": "https://localhost:8080/",
          "height": 527
        },
        "outputId": "180c3af6-d01c-4269-f9ea-8176c96ef38f"
      },
      "source": [
        "from tensorflow.keras.layers import Input, Dense, Reshape, Flatten, Conv2D, MaxPooling2D\n",
        "from tensorflow.keras.models import Model\n",
        "\n",
        "\n",
        "\n",
        "in_layer = Input(shape=(256, 256, 3))\n",
        "conv = Conv2D(filters=60, kernel_size=3)(in_layer)\n",
        "pooling = MaxPooling2D()(conv) \n",
        "conv = Conv2D(filters=60, kernel_size=3)(pooling)\n",
        "pooling = MaxPooling2D()(conv) \n",
        "conv = Conv2D(filters=60, kernel_size=3)(pooling)\n",
        "pooling = MaxPooling2D()(conv) \n",
        "flat = Flatten()(pooling)\n",
        "d1 = Dense(units=400, activation=\"tanh\")(flat)\n",
        "d2 = Dense(units=100, activation=\"tanh\")(d1)\n",
        "out_layer = Dense(units=4, activation=\"softmax\")(d2)\n",
        "\n",
        "model = Model(in_layer, out_layer)\n",
        "\n",
        "model.summary()\n",
        "\n",
        "model.compile(optimizer=\"adam\", loss=\"categorical_crossentropy\", metrics=[\"accuracy\"])"
      ],
      "execution_count": 12,
      "outputs": [
        {
          "output_type": "stream",
          "text": [
            "Model: \"model\"\n",
            "_________________________________________________________________\n",
            "Layer (type)                 Output Shape              Param #   \n",
            "=================================================================\n",
            "input_1 (InputLayer)         [(None, 256, 256, 3)]     0         \n",
            "_________________________________________________________________\n",
            "conv2d (Conv2D)              (None, 254, 254, 60)      1680      \n",
            "_________________________________________________________________\n",
            "max_pooling2d (MaxPooling2D) (None, 127, 127, 60)      0         \n",
            "_________________________________________________________________\n",
            "conv2d_1 (Conv2D)            (None, 125, 125, 60)      32460     \n",
            "_________________________________________________________________\n",
            "max_pooling2d_1 (MaxPooling2 (None, 62, 62, 60)        0         \n",
            "_________________________________________________________________\n",
            "conv2d_2 (Conv2D)            (None, 60, 60, 60)        32460     \n",
            "_________________________________________________________________\n",
            "max_pooling2d_2 (MaxPooling2 (None, 30, 30, 60)        0         \n",
            "_________________________________________________________________\n",
            "flatten (Flatten)            (None, 54000)             0         \n",
            "_________________________________________________________________\n",
            "dense (Dense)                (None, 400)               21600400  \n",
            "_________________________________________________________________\n",
            "dense_1 (Dense)              (None, 100)               40100     \n",
            "_________________________________________________________________\n",
            "dense_2 (Dense)              (None, 4)                 404       \n",
            "=================================================================\n",
            "Total params: 21,707,504\n",
            "Trainable params: 21,707,504\n",
            "Non-trainable params: 0\n",
            "_________________________________________________________________\n"
          ],
          "name": "stdout"
        }
      ]
    },
    {
      "cell_type": "code",
      "metadata": {
        "id": "uzpiyLI2T6ko",
        "colab_type": "code",
        "colab": {
          "base_uri": "https://localhost:8080/",
          "height": 275
        },
        "outputId": "7ef5bada-c7bd-4f52-bfd0-bd6cf711e2bb"
      },
      "source": [
        "model.fit_generator(generator, steps_per_epoch=20, epochs=5)"
      ],
      "execution_count": 13,
      "outputs": [
        {
          "output_type": "stream",
          "text": [
            "WARNING:tensorflow:From <ipython-input-13-95443bca6907>:1: Model.fit_generator (from tensorflow.python.keras.engine.training) is deprecated and will be removed in a future version.\n",
            "Instructions for updating:\n",
            "Please use Model.fit, which supports generators.\n",
            "Epoch 1/5\n",
            "20/20 [==============================] - 8s 425ms/step - loss: 1.5375 - accuracy: 0.2565\n",
            "Epoch 2/5\n",
            "20/20 [==============================] - 9s 457ms/step - loss: 1.4174 - accuracy: 0.2313\n",
            "Epoch 3/5\n",
            "20/20 [==============================] - 9s 439ms/step - loss: 1.3982 - accuracy: 0.2581\n",
            "Epoch 4/5\n",
            "20/20 [==============================] - 9s 438ms/step - loss: 1.4044 - accuracy: 0.2468\n",
            "Epoch 5/5\n",
            "20/20 [==============================] - 9s 435ms/step - loss: 1.4007 - accuracy: 0.2370\n"
          ],
          "name": "stdout"
        },
        {
          "output_type": "execute_result",
          "data": {
            "text/plain": [
              "<tensorflow.python.keras.callbacks.History at 0x7f3dcee9be48>"
            ]
          },
          "metadata": {
            "tags": []
          },
          "execution_count": 13
        }
      ]
    },
    {
      "cell_type": "code",
      "metadata": {
        "id": "dpnPxTnvUtth",
        "colab_type": "code",
        "colab": {}
      },
      "source": [
        ""
      ],
      "execution_count": 0,
      "outputs": []
    }
  ]
}