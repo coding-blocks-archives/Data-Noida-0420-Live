{
 "cells": [
  {
   "cell_type": "code",
   "execution_count": 1,
   "metadata": {},
   "outputs": [],
   "source": [
    "import tensorflow as tf\n",
    "\n",
    "from sklearn.datasets import make_regression\n",
    "import numpy as np\n",
    "import matplotlib.pyplot as plt\n",
    "\n",
    "# Hide warnings\n",
    "import warnings\n",
    "warnings.filterwarnings('ignore')\n",
    "\n",
    "from sklearn.model_selection import train_test_split"
   ]
  },
  {
   "cell_type": "code",
   "execution_count": 2,
   "metadata": {},
   "outputs": [],
   "source": [
    "noise = np.random.uniform(-50, 50, 100)"
   ]
  },
  {
   "cell_type": "code",
   "execution_count": 3,
   "metadata": {},
   "outputs": [],
   "source": [
    "X = np.linspace(-20, 20, 100)"
   ]
  },
  {
   "cell_type": "code",
   "execution_count": 4,
   "metadata": {},
   "outputs": [],
   "source": [
    "y = 3 * X * X + 5 * X + 10 + noise"
   ]
  },
  {
   "cell_type": "code",
   "execution_count": 5,
   "metadata": {},
   "outputs": [
    {
     "data": {
      "text/plain": [
       "<matplotlib.collections.PathCollection at 0x1a3eeecb70>"
      ]
     },
     "execution_count": 5,
     "metadata": {},
     "output_type": "execute_result"
    },
    {
     "data": {
      "image/png": "[encoded data removed]",
      "text/plain": [
       "<Figure size 432x288 with 1 Axes>"
      ]
     },
     "metadata": {
      "needs_background": "light"
     },
     "output_type": "display_data"
    }
   ],
   "source": [
    "plt.scatter(X, y)"
   ]
  },
  {
   "cell_type": "code",
   "execution_count": 6,
   "metadata": {},
   "outputs": [],
   "source": [
    "X_mod = (X - X.mean())/X.std()"
   ]
  },
  {
   "cell_type": "code",
   "execution_count": 7,
   "metadata": {},
   "outputs": [],
   "source": [
    "Y_mod = (y - y.mean())/y.std()"
   ]
  },
  {
   "cell_type": "code",
   "execution_count": 8,
   "metadata": {},
   "outputs": [
    {
     "data": {
      "text/plain": [
       "<matplotlib.collections.PathCollection at 0x1a3f0046d8>"
      ]
     },
     "execution_count": 8,
     "metadata": {},
     "output_type": "execute_result"
    },
    {
     "data": {
      "image/png": "[encoded data removed]",
      "text/plain": [
       "<Figure size 432x288 with 1 Axes>"
      ]
     },
     "metadata": {
      "needs_background": "light"
     },
     "output_type": "display_data"
    }
   ],
   "source": [
    "plt.scatter(X_mod, Y_mod)"
   ]
  },
  {
   "cell_type": "code",
   "execution_count": 9,
   "metadata": {},
   "outputs": [],
   "source": [
    "X_train, X_test, y_train, y_test = train_test_split(\n",
    "...     X_mod, Y_mod, test_size=0.33, random_state=42)"
   ]
  },
  {
   "cell_type": "code",
   "execution_count": 14,
   "metadata": {},
   "outputs": [],
   "source": [
    "from tensorflow.keras.layers import Dense\n",
    "from tensorflow.keras.models import Sequential\n",
    "\n",
    "model = Sequential()\n",
    "model.add(Dense(units=4, activation=\"sigmoid\", input_shape=(1,)))\n",
    "model.add(Dense(units=1, activation=\"linear\"))\n",
    "\n",
    "model.compile(optimizer='sgd', loss='mse')\n"
   ]
  },
  {
   "cell_type": "code",
   "execution_count": 15,
   "metadata": {},
   "outputs": [
    {
     "name": "stdout",
     "output_type": "stream",
     "text": [
      "Train on 67 samples\n",
      "Epoch 1/20\n",
      "67/67 [==============================] - 1s 8ms/sample - loss: 3.7133\n",
      "Epoch 2/20\n",
      "67/67 [==============================] - 0s 43us/sample - loss: 3.4941\n",
      "Epoch 3/20\n",
      "67/67 [==============================] - 0s 53us/sample - loss: 3.2943\n",
      "Epoch 4/20\n",
      "67/67 [==============================] - 0s 29us/sample - loss: 3.1119\n",
      "Epoch 5/20\n",
      "67/67 [==============================] - 0s 43us/sample - loss: 2.9453\n",
      "Epoch 6/20\n",
      "67/67 [==============================] - 0s 78us/sample - loss: 2.7931\n",
      "Epoch 7/20\n",
      "67/67 [==============================] - 0s 51us/sample - loss: 2.6540\n",
      "Epoch 8/20\n",
      "67/67 [==============================] - 0s 95us/sample - loss: 2.5267\n",
      "Epoch 9/20\n",
      "67/67 [==============================] - 0s 89us/sample - loss: 2.4102\n",
      "Epoch 10/20\n",
      "67/67 [==============================] - 0s 34us/sample - loss: 2.3035\n",
      "Epoch 11/20\n",
      "67/67 [==============================] - 0s 45us/sample - loss: 2.2057\n",
      "Epoch 12/20\n",
      "67/67 [==============================] - 0s 76us/sample - loss: 2.1161\n",
      "Epoch 13/20\n",
      "67/67 [==============================] - 0s 56us/sample - loss: 2.0340\n",
      "Epoch 14/20\n",
      "67/67 [==============================] - 0s 48us/sample - loss: 1.9587\n",
      "Epoch 15/20\n",
      "67/67 [==============================] - 0s 157us/sample - loss: 1.8895\n",
      "Epoch 16/20\n",
      "67/67 [==============================] - 0s 237us/sample - loss: 1.8261\n",
      "Epoch 17/20\n",
      "67/67 [==============================] - 0s 85us/sample - loss: 1.7678\n",
      "Epoch 18/20\n",
      "67/67 [==============================] - 0s 100us/sample - loss: 1.7142\n",
      "Epoch 19/20\n",
      "67/67 [==============================] - 0s 65us/sample - loss: 1.6650\n",
      "Epoch 20/20\n",
      "67/67 [==============================] - 0s 74us/sample - loss: 1.6198\n"
     ]
    },
    {
     "data": {
      "text/plain": [
       "<tensorflow.python.keras.callbacks.History at 0x1a3f84ef60>"
      ]
     },
     "execution_count": 15,
     "metadata": {},
     "output_type": "execute_result"
    }
   ],
   "source": [
    "\n",
    "model.fit(X_train, y_train, batch_size=200, epochs=20)"
   ]
  },
  {
   "cell_type": "code",
   "execution_count": 16,
   "metadata": {},
   "outputs": [],
   "source": [
    "yp = model.predict(X_test).flatten()"
   ]
  },
  {
   "cell_type": "code",
   "execution_count": 17,
   "metadata": {},
   "outputs": [
    {
     "data": {
      "text/plain": [
       "<matplotlib.collections.PathCollection at 0x1a3f7535f8>"
      ]
     },
     "execution_count": 17,
     "metadata": {},
     "output_type": "execute_result"
    },
    {
     "data": {
      "image/png": "[encoded data removed]",
      "text/plain": [
       "<Figure size 432x288 with 1 Axes>"
      ]
     },
     "metadata": {
      "needs_background": "light"
     },
     "output_type": "display_data"
    }
   ],
   "source": [
    "plt.scatter(X_train, y_train)\n",
    "plt.scatter(X_test, yp)"
   ]
  },
  {
   "cell_type": "code",
   "execution_count": null,
   "metadata": {},
   "outputs": [],
   "source": []
  },
  {
   "cell_type": "code",
   "execution_count": null,
   "metadata": {},
   "outputs": [],
   "source": []
  },
  {
   "cell_type": "code",
   "execution_count": null,
   "metadata": {},
   "outputs": [],
   "source": []
  },
  {
   "cell_type": "code",
   "execution_count": null,
   "metadata": {},
   "outputs": [],
   "source": []
  }
 ],
 "metadata": {
  "kernelspec": {
   "display_name": "Python 3",
   "language": "python",
   "name": "python3"
  },
  "language_info": {
   "codemirror_mode": {
    "name": "ipython",
    "version": 3
   },
   "file_extension": ".py",
   "mimetype": "text/x-python",
   "name": "python",
   "nbconvert_exporter": "python",
   "pygments_lexer": "ipython3",
   "version": "3.6.10"
  }
 },
 "nbformat": 4,
 "nbformat_minor": 4
}
