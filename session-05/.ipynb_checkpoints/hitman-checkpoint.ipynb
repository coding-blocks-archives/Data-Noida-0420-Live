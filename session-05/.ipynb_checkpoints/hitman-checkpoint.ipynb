{
 "cells": [
  {
   "cell_type": "code",
   "execution_count": 95,
   "metadata": {},
   "outputs": [],
   "source": [
    "class Human:\n",
    "    aadhar_seq = 0\n",
    "    population = 0\n",
    "    aadhar = []\n",
    "    \n",
    "    def __init__(self, name=\"unnamed\"):\n",
    "        self.id = Human.aadhar_seq\n",
    "        self.name = name\n",
    "        self.alive = True\n",
    "        Human.population += 1\n",
    "        Human.aadhar_seq += 1\n",
    "        Human.aadhar.append(self)\n",
    "    \n",
    "    def die(self):\n",
    "        if self.alive == True:\n",
    "            self.alive = False\n",
    "            Human.population -= 1\n",
    "        \n",
    "    def __repr__(self):\n",
    "        return \"{} : {} : {}\".format(self.id, self.name, self.alive)\n",
    "\n",
    "class Hitman(Human):\n",
    "    \n",
    "    def __init__(self, name=\"killer\"):\n",
    "        super().__init__(name)\n",
    "        self.kills = 0\n",
    "    \n",
    "    def kill(self, person):\n",
    "        if self is person:\n",
    "            print(\"Suicide is never an option\")\n",
    "        elif not self.alive:\n",
    "            print(\"Hitman is already dead\")\n",
    "        elif person.alive:\n",
    "            person.die()\n",
    "            self.kills += 1 "
   ]
  },
  {
   "cell_type": "code",
   "execution_count": 87,
   "metadata": {},
   "outputs": [],
   "source": [
    "gogo = Hitman(\"Crime master\")\n",
    "\n",
    "gagan = Human(\"Gagan\")\n",
    "\n",
    "ravi = Human(\"Ravi\")"
   ]
  },
  {
   "cell_type": "code",
   "execution_count": 88,
   "metadata": {},
   "outputs": [],
   "source": [
    "gogo.kill(gagan)"
   ]
  },
  {
   "cell_type": "code",
   "execution_count": 89,
   "metadata": {},
   "outputs": [
    {
     "data": {
      "text/plain": [
       "1"
      ]
     },
     "execution_count": 89,
     "metadata": {},
     "output_type": "execute_result"
    }
   ],
   "source": [
    "gogo.kills"
   ]
  },
  {
   "cell_type": "code",
   "execution_count": 90,
   "metadata": {},
   "outputs": [
    {
     "name": "stdout",
     "output_type": "stream",
     "text": [
      "Suicide is never an option\n"
     ]
    }
   ],
   "source": [
    "gogo.kill(gogo)"
   ]
  },
  {
   "cell_type": "code",
   "execution_count": 91,
   "metadata": {},
   "outputs": [
    {
     "data": {
      "text/plain": [
       "[0 : Crime master : True, 1 : Gagan : False, 2 : Ravi : True]"
      ]
     },
     "execution_count": 91,
     "metadata": {},
     "output_type": "execute_result"
    }
   ],
   "source": [
    "Human.aadhar"
   ]
  },
  {
   "cell_type": "code",
   "execution_count": 92,
   "metadata": {},
   "outputs": [],
   "source": [
    "james = Hitman(\"Bond\")"
   ]
  },
  {
   "cell_type": "code",
   "execution_count": 93,
   "metadata": {},
   "outputs": [],
   "source": [
    "gogo.kill(james)"
   ]
  },
  {
   "cell_type": "code",
   "execution_count": 94,
   "metadata": {},
   "outputs": [
    {
     "name": "stdout",
     "output_type": "stream",
     "text": [
      "Hitman is already dead\n"
     ]
    }
   ],
   "source": [
    "james.kill(ravi)"
   ]
  },
  {
   "cell_type": "code",
   "execution_count": null,
   "metadata": {},
   "outputs": [],
   "source": []
  }
 ],
 "metadata": {
  "kernelspec": {
   "display_name": "Python 3",
   "language": "python",
   "name": "python3"
  },
  "language_info": {
   "codemirror_mode": {
    "name": "ipython",
    "version": 3
   },
   "file_extension": ".py",
   "mimetype": "text/x-python",
   "name": "python",
   "nbconvert_exporter": "python",
   "pygments_lexer": "ipython3",
   "version": "3.7.2"
  }
 },
 "nbformat": 4,
 "nbformat_minor": 4
}
