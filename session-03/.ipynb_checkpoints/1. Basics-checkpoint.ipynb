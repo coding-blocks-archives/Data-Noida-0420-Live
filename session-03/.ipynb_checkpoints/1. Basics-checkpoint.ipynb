{
 "cells": [
  {
   "cell_type": "markdown",
   "metadata": {},
   "source": [
    "# <center>Basics</center>\n",
    "\n",
    "## Let's write our first \"Hello world!\" program :)\n",
    "\n",
    "- Run on interactive shell\n",
    "\n",
    "- Run as python script\n",
    "\n",
    "[Let's solve our first challenge!](https://www.hackerrank.com/challenges/py-hello-world)"
   ]
  },
  {
   "cell_type": "code",
   "execution_count": null,
   "metadata": {},
   "outputs": [],
   "source": []
  },
  {
   "cell_type": "markdown",
   "metadata": {},
   "source": [
    "## Putting comments\n",
    "\n",
    "\n",
    "![](images/comments.jpg)\n",
    "\n",
    "> Code tells you how, comments should tell you why.\n"
   ]
  },
  {
   "cell_type": "code",
   "execution_count": null,
   "metadata": {},
   "outputs": [],
   "source": [
    "# this is a comment"
   ]
  },
  {
   "cell_type": "markdown",
   "metadata": {},
   "source": [
    "## Literal constants\n",
    "\n",
    "- Numbers\n",
    "    - Integers\n",
    "    - Floats\n",
    "- Strings\n",
    "    - Single quotes\n",
    "    - Double quotes\n",
    "    - Triple quotes\n",
    "    - Escape sequences (\\n, \\t, \\r)\n",
    "    - Explicit line joining"
   ]
  },
  {
   "cell_type": "code",
   "execution_count": null,
   "metadata": {},
   "outputs": [],
   "source": []
  },
  {
   "cell_type": "code",
   "execution_count": null,
   "metadata": {},
   "outputs": [],
   "source": []
  },
  {
   "cell_type": "markdown",
   "metadata": {},
   "source": [
    "## Variables\n",
    "\n",
    "A type of **identifier**.\n",
    "\n",
    "Rules for naming identifiers:\n",
    "\n",
    "- The first character of the identifier must be a letter of the alphabet (uppercase ASCII or lowercase ASCII or Unicode character) or an underscore (_).\n",
    "    \n",
    "- The rest of the identifier name can consist of letters (uppercase ASCII or lowercase ASCII or Unicode character), underscores (_) or digits (0-9).\n",
    "    \n",
    "- Identifier names are case-sensitive. For example, myname and myName are not the same. Note the lowercase n in the former and the uppercase N in the latter.\n",
    "    \n",
    "Examples of valid identifier names are i, name_2_3. \n",
    "\n",
    "\n",
    "Examples of invalid identifier names are 2things, this is spaced out, my-name and >a1b2_c3."
   ]
  },
  {
   "cell_type": "code",
   "execution_count": null,
   "metadata": {},
   "outputs": [],
   "source": []
  },
  {
   "cell_type": "code",
   "execution_count": null,
   "metadata": {},
   "outputs": [],
   "source": []
  },
  {
   "cell_type": "markdown",
   "metadata": {},
   "source": [
    "## Data Types\n",
    "\n",
    "Variables can hold values of different types called data types. \n",
    "\n",
    "The basic types:\n",
    "- numbers\n",
    "- strings"
   ]
  },
  {
   "cell_type": "code",
   "execution_count": null,
   "metadata": {},
   "outputs": [],
   "source": []
  },
  {
   "cell_type": "markdown",
   "metadata": {},
   "source": [
    "## Indentation\n",
    "\n",
    "![](images/indent.jpg)\n",
    "\n",
    "- Whitespace is important in Python. \n",
    "\n",
    "- Actually, whitespace at the beginning of the line is important. This is called indentation. \n",
    "\n",
    "- Leading whitespace (spaces and tabs) at the beginning of the logical line is used to determine the indentation level of  the logical line, which in turn is used to determine the grouping of statements.\n",
    "\n",
    "- This means that statements which go together must have the same indentation. Each such set of statements is called a block."
   ]
  },
  {
   "cell_type": "code",
   "execution_count": null,
   "metadata": {},
   "outputs": [],
   "source": []
  },
  {
   "cell_type": "markdown",
   "metadata": {},
   "source": [
    "## Issue with indentation\n",
    "\n",
    "### Tabs vs spaces\n",
    "\n",
    "![](images/tabs_vs_spaces.jpg)\n",
    "\n",
    "### The solution...\n",
    "\n",
    "![](images/usetabs.jpeg)"
   ]
  },
  {
   "cell_type": "markdown",
   "metadata": {},
   "source": [
    "## Something more about print function...\n",
    "\n",
    "- format method\n",
    "\n",
    "- **end** and **sep**"
   ]
  },
  {
   "cell_type": "code",
   "execution_count": null,
   "metadata": {},
   "outputs": [],
   "source": []
  },
  {
   "cell_type": "markdown",
   "metadata": {},
   "source": [
    "## Taking user input\n",
    "\n",
    "- input() function\n",
    "\n",
    "- concept of typecasting"
   ]
  },
  {
   "cell_type": "code",
   "execution_count": null,
   "metadata": {},
   "outputs": [],
   "source": []
  },
  {
   "cell_type": "markdown",
   "metadata": {},
   "source": [
    "## Type Coercion"
   ]
  },
  {
   "cell_type": "code",
   "execution_count": null,
   "metadata": {},
   "outputs": [],
   "source": []
  },
  {
   "cell_type": "code",
   "execution_count": null,
   "metadata": {},
   "outputs": [],
   "source": []
  },
  {
   "cell_type": "code",
   "execution_count": null,
   "metadata": {},
   "outputs": [],
   "source": []
  }
 ],
 "metadata": {
  "kernelspec": {
   "display_name": "Python 3",
   "language": "python",
   "name": "python3"
  },
  "language_info": {
   "codemirror_mode": {
    "name": "ipython",
    "version": 3
   },
   "file_extension": ".py",
   "mimetype": "text/x-python",
   "name": "python",
   "nbconvert_exporter": "python",
   "pygments_lexer": "ipython3",
   "version": "3.7.2"
  }
 },
 "nbformat": 4,
 "nbformat_minor": 4
}
