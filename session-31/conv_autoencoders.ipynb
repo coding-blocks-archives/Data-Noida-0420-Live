{
  "nbformat": 4,
  "nbformat_minor": 0,
  "metadata": {
    "kernelspec": {
      "display_name": "Python 3",
      "language": "python",
      "name": "python3"
    },
    "language_info": {
      "codemirror_mode": {
        "name": "ipython",
        "version": 3
      },
      "file_extension": ".py",
      "mimetype": "text/x-python",
      "name": "python",
      "nbconvert_exporter": "python",
      "pygments_lexer": "ipython3",
      "version": "3.6.10"
    },
    "colab": {
      "name": "conv autoencoders.ipynb",
      "provenance": []
    },
    "accelerator": "GPU"
  },
  "cells": [
    {
      "cell_type": "code",
      "metadata": {
        "id": "74eZcoHlxFK9",
        "colab_type": "code",
        "colab": {}
      },
      "source": [
        "import numpy as np\n",
        "import pandas as pd\n",
        "import matplotlib.pyplot as plt\n",
        "\n",
        "from tensorflow.keras.datasets import mnist"
      ],
      "execution_count": 0,
      "outputs": []
    },
    {
      "cell_type": "code",
      "metadata": {
        "id": "v0A2zneFxFLB",
        "colab_type": "code",
        "colab": {}
      },
      "source": [
        "(x_train, y_train), (x_test, y_test) = mnist.load_data()\n",
        "\n",
        "X = x_train.astype(float) / 255\n",
        "X_ = x_test.astype(float) / 255"
      ],
      "execution_count": 0,
      "outputs": []
    },
    {
      "cell_type": "code",
      "metadata": {
        "id": "EwVoHMdfxFLE",
        "colab_type": "code",
        "colab": {}
      },
      "source": [
        "from tensorflow.keras.layers import Input, Conv2D, MaxPooling2D, Flatten, Dense, Reshape, UpSampling2D\n",
        "from tensorflow.keras.models import Model"
      ],
      "execution_count": 0,
      "outputs": []
    },
    {
      "cell_type": "code",
      "metadata": {
        "id": "9IIhGIe3xFLG",
        "colab_type": "code",
        "colab": {}
      },
      "source": [
        "in_layer = Input(shape=(28, 28))\n",
        "reshape = Reshape(target_shape=(28, 28, 1))(in_layer)\n",
        "conv = Conv2D(32, kernel_size=3, activation=\"tanh\", padding=\"same\")(reshape)\n",
        "pool = MaxPooling2D()(conv)\n",
        "conv = Conv2D(64, kernel_size=3, activation=\"tanh\", padding=\"same\")(pool)\n",
        "pool = MaxPooling2D()(conv)\n",
        "flat = Flatten()(pool)\n",
        "out_layer = Dense(units=10, activation=\"sigmoid\")(flat)"
      ],
      "execution_count": 0,
      "outputs": []
    },
    {
      "cell_type": "code",
      "metadata": {
        "id": "10ePgBWcxFLI",
        "colab_type": "code",
        "colab": {}
      },
      "source": [
        "encoder = Model(in_layer, out_layer)"
      ],
      "execution_count": 0,
      "outputs": []
    },
    {
      "cell_type": "code",
      "metadata": {
        "id": "PLislHzaxFLL",
        "colab_type": "code",
        "colab": {
          "base_uri": "https://localhost:8080/",
          "height": 425
        },
        "outputId": "78abc134-12e9-4b68-cec5-22ca755c3abe"
      },
      "source": [
        "encoder.summary()"
      ],
      "execution_count": 62,
      "outputs": [
        {
          "output_type": "stream",
          "text": [
            "Model: \"model_9\"\n",
            "_________________________________________________________________\n",
            "Layer (type)                 Output Shape              Param #   \n",
            "=================================================================\n",
            "input_11 (InputLayer)        [(None, 28, 28)]          0         \n",
            "_________________________________________________________________\n",
            "reshape_11 (Reshape)         (None, 28, 28, 1)         0         \n",
            "_________________________________________________________________\n",
            "conv2d_18 (Conv2D)           (None, 28, 28, 32)        320       \n",
            "_________________________________________________________________\n",
            "max_pooling2d_6 (MaxPooling2 (None, 14, 14, 32)        0         \n",
            "_________________________________________________________________\n",
            "conv2d_19 (Conv2D)           (None, 14, 14, 64)        18496     \n",
            "_________________________________________________________________\n",
            "max_pooling2d_7 (MaxPooling2 (None, 7, 7, 64)          0         \n",
            "_________________________________________________________________\n",
            "flatten_3 (Flatten)          (None, 3136)              0         \n",
            "_________________________________________________________________\n",
            "dense_7 (Dense)              (None, 10)                31370     \n",
            "=================================================================\n",
            "Total params: 50,186\n",
            "Trainable params: 50,186\n",
            "Non-trainable params: 0\n",
            "_________________________________________________________________\n"
          ],
          "name": "stdout"
        }
      ]
    },
    {
      "cell_type": "code",
      "metadata": {
        "id": "iDuAayMExFLS",
        "colab_type": "code",
        "colab": {}
      },
      "source": [
        "in_layer = Input(shape=(10,))\n",
        "dense = Dense(units=7*7*64, activation=\"tanh\")(in_layer)\n",
        "reshape = Reshape(target_shape=(7, 7, 64))(dense)\n",
        "conv = Conv2D(64, kernel_size=3, activation=\"tanh\", padding=\"same\")(reshape)\n",
        "upsample = UpSampling2D()(conv)\n",
        "conv = Conv2D(32, kernel_size=3, activation=\"tanh\", padding=\"same\")(upsample)\n",
        "upsample = UpSampling2D()(conv)\n",
        "conv = Conv2D(1, kernel_size=3, activation=\"sigmoid\", padding=\"same\")(upsample)\n",
        "out_layer = Reshape(target_shape=(28, 28))(conv)"
      ],
      "execution_count": 0,
      "outputs": []
    },
    {
      "cell_type": "code",
      "metadata": {
        "id": "bo-0sB2IxFLV",
        "colab_type": "code",
        "colab": {}
      },
      "source": [
        "decoder = Model(in_layer, out_layer)"
      ],
      "execution_count": 0,
      "outputs": []
    },
    {
      "cell_type": "code",
      "metadata": {
        "id": "7KTo6KggxFLY",
        "colab_type": "code",
        "colab": {
          "base_uri": "https://localhost:8080/",
          "height": 459
        },
        "outputId": "6cec37d5-a597-44da-9225-e9c978fdaef2"
      },
      "source": [
        "decoder.summary()"
      ],
      "execution_count": 65,
      "outputs": [
        {
          "output_type": "stream",
          "text": [
            "Model: \"model_10\"\n",
            "_________________________________________________________________\n",
            "Layer (type)                 Output Shape              Param #   \n",
            "=================================================================\n",
            "input_12 (InputLayer)        [(None, 10)]              0         \n",
            "_________________________________________________________________\n",
            "dense_8 (Dense)              (None, 3136)              34496     \n",
            "_________________________________________________________________\n",
            "reshape_12 (Reshape)         (None, 7, 7, 64)          0         \n",
            "_________________________________________________________________\n",
            "conv2d_20 (Conv2D)           (None, 7, 7, 64)          36928     \n",
            "_________________________________________________________________\n",
            "up_sampling2d_8 (UpSampling2 (None, 14, 14, 64)        0         \n",
            "_________________________________________________________________\n",
            "conv2d_21 (Conv2D)           (None, 14, 14, 32)        18464     \n",
            "_________________________________________________________________\n",
            "up_sampling2d_9 (UpSampling2 (None, 28, 28, 32)        0         \n",
            "_________________________________________________________________\n",
            "conv2d_22 (Conv2D)           (None, 28, 28, 1)         289       \n",
            "_________________________________________________________________\n",
            "reshape_13 (Reshape)         (None, 28, 28)            0         \n",
            "=================================================================\n",
            "Total params: 90,177\n",
            "Trainable params: 90,177\n",
            "Non-trainable params: 0\n",
            "_________________________________________________________________\n"
          ],
          "name": "stdout"
        }
      ]
    },
    {
      "cell_type": "code",
      "metadata": {
        "id": "ub2DJ9epxFLa",
        "colab_type": "code",
        "colab": {}
      },
      "source": [
        "in_layer = Input(shape=(28, 28))\n",
        "encode_layer = encoder(in_layer)\n",
        "decode_layer = decoder(encode_layer)"
      ],
      "execution_count": 0,
      "outputs": []
    },
    {
      "cell_type": "code",
      "metadata": {
        "id": "XkKaPulxxFLc",
        "colab_type": "code",
        "colab": {}
      },
      "source": [
        "autoencoder = Model(in_layer, decode_layer)"
      ],
      "execution_count": 0,
      "outputs": []
    },
    {
      "cell_type": "code",
      "metadata": {
        "id": "Y3LakUknxFLe",
        "colab_type": "code",
        "colab": {
          "base_uri": "https://localhost:8080/",
          "height": 255
        },
        "outputId": "86dd65a7-c8a1-4d69-c2eb-6e4491fa36dc"
      },
      "source": [
        "autoencoder.summary()"
      ],
      "execution_count": 68,
      "outputs": [
        {
          "output_type": "stream",
          "text": [
            "Model: \"model_11\"\n",
            "_________________________________________________________________\n",
            "Layer (type)                 Output Shape              Param #   \n",
            "=================================================================\n",
            "input_13 (InputLayer)        [(None, 28, 28)]          0         \n",
            "_________________________________________________________________\n",
            "model_9 (Model)              (None, 10)                50186     \n",
            "_________________________________________________________________\n",
            "model_10 (Model)             (None, 28, 28)            90177     \n",
            "=================================================================\n",
            "Total params: 140,363\n",
            "Trainable params: 140,363\n",
            "Non-trainable params: 0\n",
            "_________________________________________________________________\n"
          ],
          "name": "stdout"
        }
      ]
    },
    {
      "cell_type": "code",
      "metadata": {
        "id": "OXW39Tp6xFLp",
        "colab_type": "code",
        "colab": {}
      },
      "source": [
        "autoencoder.compile(optimizer=\"adam\", loss=\"binary_crossentropy\")"
      ],
      "execution_count": 0,
      "outputs": []
    },
    {
      "cell_type": "code",
      "metadata": {
        "id": "5u44-txxxFLr",
        "colab_type": "code",
        "colab": {
          "base_uri": "https://localhost:8080/",
          "height": 374
        },
        "outputId": "04adc0d9-26a7-476c-bd01-bdb83487426c"
      },
      "source": [
        "autoencoder.fit(X, X, batch_size=1000, epochs=10)"
      ],
      "execution_count": 73,
      "outputs": [
        {
          "output_type": "stream",
          "text": [
            "Epoch 1/10\n",
            "60/60 [==============================] - 3s 44ms/step - loss: 0.1485\n",
            "Epoch 2/10\n",
            "60/60 [==============================] - 3s 43ms/step - loss: 0.1480\n",
            "Epoch 3/10\n",
            "60/60 [==============================] - 3s 43ms/step - loss: 0.1467\n",
            "Epoch 4/10\n",
            "60/60 [==============================] - 3s 43ms/step - loss: 0.1454\n",
            "Epoch 5/10\n",
            "60/60 [==============================] - 3s 44ms/step - loss: 0.1440\n",
            "Epoch 6/10\n",
            "60/60 [==============================] - 3s 44ms/step - loss: 0.1420\n",
            "Epoch 7/10\n",
            "60/60 [==============================] - 3s 44ms/step - loss: 0.1397\n",
            "Epoch 8/10\n",
            "60/60 [==============================] - 3s 44ms/step - loss: 0.1376\n",
            "Epoch 9/10\n",
            "60/60 [==============================] - 3s 44ms/step - loss: 0.1354\n",
            "Epoch 10/10\n",
            "60/60 [==============================] - 3s 43ms/step - loss: 0.1335\n"
          ],
          "name": "stdout"
        },
        {
          "output_type": "execute_result",
          "data": {
            "text/plain": [
              "<tensorflow.python.keras.callbacks.History at 0x7f80bc0fd400>"
            ]
          },
          "metadata": {
            "tags": []
          },
          "execution_count": 73
        }
      ]
    },
    {
      "cell_type": "code",
      "metadata": {
        "id": "jf5KS9lIx3MI",
        "colab_type": "code",
        "colab": {}
      },
      "source": [
        ""
      ],
      "execution_count": 0,
      "outputs": []
    },
    {
      "cell_type": "code",
      "metadata": {
        "id": "j8JlLMsQyLN6",
        "colab_type": "code",
        "colab": {}
      },
      "source": [
        "out = autoencoder.predict(x_test[:5])"
      ],
      "execution_count": 0,
      "outputs": []
    },
    {
      "cell_type": "code",
      "metadata": {
        "id": "jAk04_bXyQnE",
        "colab_type": "code",
        "colab": {
          "base_uri": "https://localhost:8080/",
          "height": 1000
        },
        "outputId": "cc2fef8e-78be-4e83-823e-c77fc911d69a"
      },
      "source": [
        "for i in range(5):\n",
        "  plt.figure()\n",
        "  plt.imshow(out[i], cmap=\"gray\")\n",
        "  plt.show()"
      ],
      "execution_count": 75,
      "outputs": [
        {
          "output_type": "display_data",
          "data": {
            "image/png": "[encoded data removed]",
            "text/plain": [
              "<Figure size 432x288 with 1 Axes>"
            ]
          },
          "metadata": {
            "tags": [],
            "needs_background": "light"
          }
        },
        {
          "output_type": "display_data",
          "data": {
            "image/png": "[encoded data removed]",
            "text/plain": [
              "<Figure size 432x288 with 1 Axes>"
            ]
          },
          "metadata": {
            "tags": [],
            "needs_background": "light"
          }
        },
        {
          "output_type": "display_data",
          "data": {
            "image/png": "[encoded data removed]",
            "text/plain": [
              "<Figure size 432x288 with 1 Axes>"
            ]
          },
          "metadata": {
            "tags": [],
            "needs_background": "light"
          }
        },
        {
          "output_type": "display_data",
          "data": {
            "image/png": "[encoded data removed]",
            "text/plain": [
              "<Figure size 432x288 with 1 Axes>"
            ]
          },
          "metadata": {
            "tags": [],
            "needs_background": "light"
          }
        },
        {
          "output_type": "display_data",
          "data": {
            "image/png": "[encoded data removed]",
            "text/plain": [
              "<Figure size 432x288 with 1 Axes>"
            ]
          },
          "metadata": {
            "tags": [],
            "needs_background": "light"
          }
        }
      ]
    },
    {
      "cell_type": "code",
      "metadata": {
        "id": "NZvYlzHKycj6",
        "colab_type": "code",
        "colab": {}
      },
      "source": [
        ""
      ],
      "execution_count": 0,
      "outputs": []
    }
  ]
}