{
 "cells": [
  {
   "cell_type": "code",
   "execution_count": 2,
   "metadata": {},
   "outputs": [],
   "source": [
    "import numpy as np\n",
    "import pandas as pd\n",
    "import matplotlib.pyplot as plt\n",
    "\n",
    "from tensorflow.keras.datasets import mnist\n",
    "\n",
    "(x_train, y_train), (x_test, y_test) = mnist.load_data()\n",
    "\n",
    "from tensorflow.keras.layers import Input, Dense, Reshape\n",
    "from tensorflow.keras.models import Model"
   ]
  },
  {
   "cell_type": "code",
   "execution_count": 38,
   "metadata": {},
   "outputs": [],
   "source": [
    "noise_size = 30\n",
    "\n",
    "X = x_train.astype(float) / 255\n",
    "X_ = x_test.astype(float) / 255"
   ]
  },
  {
   "cell_type": "code",
   "execution_count": 39,
   "metadata": {},
   "outputs": [],
   "source": [
    "in_layer = Input(shape=(noise_size,))\n",
    "dense = Dense(units=100, activation=\"tanh\")(in_layer)\n",
    "dense = Dense(units=400, activation=\"tanh\")(dense)\n",
    "dense = Dense(units=784, activation=\"sigmoid\")(dense)\n",
    "out_layer = Reshape(target_shape=(28, 28))(dense)"
   ]
  },
  {
   "cell_type": "code",
   "execution_count": 41,
   "metadata": {},
   "outputs": [],
   "source": [
    "gen = Model(in_layer, out_layer)"
   ]
  },
  {
   "cell_type": "code",
   "execution_count": 45,
   "metadata": {},
   "outputs": [],
   "source": [
    "gen.compile(optimizer=\"adam\", loss=\"binary_crossentropy\")"
   ]
  },
  {
   "cell_type": "code",
   "execution_count": 46,
   "metadata": {},
   "outputs": [
    {
     "name": "stdout",
     "output_type": "stream",
     "text": [
      "Model: \"model_12\"\n",
      "_________________________________________________________________\n",
      "Layer (type)                 Output Shape              Param #   \n",
      "=================================================================\n",
      "input_16 (InputLayer)        [(None, 30)]              0         \n",
      "_________________________________________________________________\n",
      "dense_39 (Dense)             (None, 100)               3100      \n",
      "_________________________________________________________________\n",
      "dense_40 (Dense)             (None, 400)               40400     \n",
      "_________________________________________________________________\n",
      "dense_41 (Dense)             (None, 784)               314384    \n",
      "_________________________________________________________________\n",
      "reshape_11 (Reshape)         (None, 28, 28)            0         \n",
      "=================================================================\n",
      "Total params: 357,884\n",
      "Trainable params: 357,884\n",
      "Non-trainable params: 0\n",
      "_________________________________________________________________\n"
     ]
    }
   ],
   "source": [
    "gen.summary()"
   ]
  },
  {
   "cell_type": "code",
   "execution_count": 51,
   "metadata": {},
   "outputs": [],
   "source": [
    "in_layer = Input(shape=(28, 28,))\n",
    "reshape = Reshape(target_shape=(784,))(in_layer)\n",
    "dense = Dense(units=400, activation=\"tanh\")(reshape)\n",
    "dense = Dense(units=100, activation=\"tanh\")(dense)\n",
    "dense = Dense(units=10, activation=\"tanh\")(dense)\n",
    "out_layer = Dense(units=1, activation=\"sigmoid\")(dense)"
   ]
  },
  {
   "cell_type": "code",
   "execution_count": 52,
   "metadata": {},
   "outputs": [],
   "source": [
    "disc = Model(in_layer, out_layer)"
   ]
  },
  {
   "cell_type": "code",
   "execution_count": 55,
   "metadata": {},
   "outputs": [],
   "source": [
    "disc.compile(optimizer=\"adam\", loss=\"binary_crossentropy\")"
   ]
  },
  {
   "cell_type": "code",
   "execution_count": 56,
   "metadata": {},
   "outputs": [
    {
     "name": "stdout",
     "output_type": "stream",
     "text": [
      "Model: \"model_14\"\n",
      "_________________________________________________________________\n",
      "Layer (type)                 Output Shape              Param #   \n",
      "=================================================================\n",
      "input_18 (InputLayer)        [(None, 28, 28)]          0         \n",
      "_________________________________________________________________\n",
      "reshape_13 (Reshape)         (None, 784)               0         \n",
      "_________________________________________________________________\n",
      "dense_46 (Dense)             (None, 400)               314000    \n",
      "_________________________________________________________________\n",
      "dense_47 (Dense)             (None, 100)               40100     \n",
      "_________________________________________________________________\n",
      "dense_48 (Dense)             (None, 10)                1010      \n",
      "_________________________________________________________________\n",
      "dense_49 (Dense)             (None, 1)                 11        \n",
      "=================================================================\n",
      "Total params: 355,121\n",
      "Trainable params: 355,121\n",
      "Non-trainable params: 0\n",
      "_________________________________________________________________\n"
     ]
    }
   ],
   "source": [
    "disc.summary()"
   ]
  },
  {
   "cell_type": "code",
   "execution_count": 57,
   "metadata": {},
   "outputs": [],
   "source": [
    "in_layer = Input(shape=(noise_size,))\n",
    "gen_layer = gen(in_layer)\n",
    "disc_layer = disc(gen_layer)"
   ]
  },
  {
   "cell_type": "code",
   "execution_count": 58,
   "metadata": {},
   "outputs": [],
   "source": [
    "gan = Model(in_layer, disc_layer)"
   ]
  },
  {
   "cell_type": "code",
   "execution_count": 59,
   "metadata": {},
   "outputs": [],
   "source": [
    "gan.compile(optimizer=\"adam\", loss=\"binary_crossentropy\")"
   ]
  },
  {
   "cell_type": "code",
   "execution_count": 60,
   "metadata": {},
   "outputs": [
    {
     "name": "stdout",
     "output_type": "stream",
     "text": [
      "Model: \"model_15\"\n",
      "_________________________________________________________________\n",
      "Layer (type)                 Output Shape              Param #   \n",
      "=================================================================\n",
      "input_19 (InputLayer)        [(None, 30)]              0         \n",
      "_________________________________________________________________\n",
      "model_12 (Model)             (None, 28, 28)            357884    \n",
      "_________________________________________________________________\n",
      "model_14 (Model)             (None, 1)                 355121    \n",
      "=================================================================\n",
      "Total params: 713,005\n",
      "Trainable params: 713,005\n",
      "Non-trainable params: 0\n",
      "_________________________________________________________________\n"
     ]
    }
   ],
   "source": [
    "gan.summary()"
   ]
  },
  {
   "cell_type": "code",
   "execution_count": 73,
   "metadata": {},
   "outputs": [],
   "source": [
    "def display(images):\n",
    "    plt.figure(figsize=(5, 5))\n",
    "    for i in range(1, 26):\n",
    "        plt.subplot(5, 5, i)\n",
    "        plt.imshow(images[i], cmap=\"gray\")\n",
    "    plt.show()\n",
    "   "
   ]
  },
  {
   "cell_type": "code",
   "execution_count": 61,
   "metadata": {},
   "outputs": [],
   "source": [
    "for i in range(100):\n",
    "    noise = np.random.randn(1000, noise_size)\n",
    "    fake_images = gen.predict(noise)\n",
    "\n",
    "    real_images = X[np.random.randint(0, len(X), 1000)]\n",
    "\n",
    "    disc.trainable = True\n",
    "\n",
    "    disc.fit(fake_images, np.zeros([1000]), verbose=0)\n",
    "    disc.fit(real_images, np.ones([1000]), verbose=0)\n",
    "\n",
    "    disc.trainable = False\n",
    "\n",
    "    gan.fit(noise, np.ones([1000]) * .9, verbose=0)\n",
    "    \n",
    "    if i % 10 == 0:\n",
    "        display(fake_images)\n",
    "\n"
   ]
  },
  {
   "cell_type": "code",
   "execution_count": 74,
   "metadata": {},
   "outputs": [],
   "source": [
    "noise = np.random.randn(1000, noise_size)\n",
    "fake_images = gen.predict(noise)"
   ]
  },
  {
   "cell_type": "code",
   "execution_count": null,
   "metadata": {},
   "outputs": [],
   "source": [
    "display(fake_images)"
   ]
  },
  {
   "cell_type": "code",
   "execution_count": null,
   "metadata": {},
   "outputs": [],
   "source": []
  }
 ],
 "metadata": {
  "kernelspec": {
   "display_name": "Python 3",
   "language": "python",
   "name": "python3"
  },
  "language_info": {
   "codemirror_mode": {
    "name": "ipython",
    "version": 3
   },
   "file_extension": ".py",
   "mimetype": "text/x-python",
   "name": "python",
   "nbconvert_exporter": "python",
   "pygments_lexer": "ipython3",
   "version": "3.6.10"
  }
 },
 "nbformat": 4,
 "nbformat_minor": 4
}
