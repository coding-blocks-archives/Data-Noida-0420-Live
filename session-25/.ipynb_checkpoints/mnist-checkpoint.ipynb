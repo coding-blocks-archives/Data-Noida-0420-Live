{
 "cells": [
  {
   "cell_type": "code",
   "execution_count": 4,
   "metadata": {},
   "outputs": [],
   "source": [
    "import numpy as np\n",
    "import matplotlib.pyplot as plt\n",
    "from sklearn.model_selection import train_test_split\n",
    "from sklearn.datasets import make_blobs\n",
    "\n",
    "from sklearn.decomposition import PCA"
   ]
  },
  {
   "cell_type": "code",
   "execution_count": 29,
   "metadata": {},
   "outputs": [],
   "source": [
    "X, y = make_blobs(centers=2, random_state=42, n_features=5)"
   ]
  },
  {
   "cell_type": "code",
   "execution_count": 30,
   "metadata": {},
   "outputs": [],
   "source": [
    "model = PCA(n_com)"
   ]
  },
  {
   "cell_type": "code",
   "execution_count": 31,
   "metadata": {},
   "outputs": [
    {
     "data": {
      "text/plain": [
       "PCA(copy=True, iterated_power='auto', n_components=2, random_state=None,\n",
       "    svd_solver='auto', tol=0.0, whiten=False)"
      ]
     },
     "execution_count": 31,
     "metadata": {},
     "output_type": "execute_result"
    }
   ],
   "source": [
    "model.fit(X)"
   ]
  },
  {
   "cell_type": "code",
   "execution_count": 32,
   "metadata": {},
   "outputs": [
    {
     "data": {
      "text/plain": [
       "array([[ 0.18493745,  0.83560971, -0.1174048 , -0.00551843, -0.50372633],\n",
       "       [ 0.39405238,  0.05192084, -0.4117182 ,  0.75570099,  0.31848248]])"
      ]
     },
     "execution_count": 32,
     "metadata": {},
     "output_type": "execute_result"
    }
   ],
   "source": [
    "model.components_"
   ]
  },
  {
   "cell_type": "code",
   "execution_count": 33,
   "metadata": {},
   "outputs": [],
   "source": [
    "# line1 = np.array([[0, 0], model.components_[0]])\n",
    "# line2 = np.array([[0, 0], model.components_[1]])"
   ]
  },
  {
   "cell_type": "code",
   "execution_count": 10,
   "metadata": {},
   "outputs": [],
   "source": [
    "# plt.figure(figsize=(6, 6))\n",
    "# plt.plot(line1[:, 0], line1[:, 1])\n",
    "# plt.plot(line2[:, 0], line2[:, 1])\n",
    "# plt.show()"
   ]
  },
  {
   "cell_type": "code",
   "execution_count": 34,
   "metadata": {},
   "outputs": [
    {
     "data": {
      "text/plain": [
       "(100, 5)"
      ]
     },
     "execution_count": 34,
     "metadata": {},
     "output_type": "execute_result"
    }
   ],
   "source": [
    "X.shape"
   ]
  },
  {
   "cell_type": "code",
   "execution_count": 36,
   "metadata": {},
   "outputs": [
    {
     "data": {
      "text/plain": [
       "(2, 5)"
      ]
     },
     "execution_count": 36,
     "metadata": {},
     "output_type": "execute_result"
    }
   ],
   "source": [
    "model.components_.shape"
   ]
  },
  {
   "cell_type": "code",
   "execution_count": 40,
   "metadata": {},
   "outputs": [],
   "source": [
    "X_mod = np.dot(X, model.components_.T)"
   ]
  },
  {
   "cell_type": "code",
   "execution_count": 42,
   "metadata": {},
   "outputs": [
    {
     "data": {
      "text/plain": [
       "<matplotlib.collections.PathCollection at 0x1a1c382400>"
      ]
     },
     "execution_count": 42,
     "metadata": {},
     "output_type": "execute_result"
    },
    {
     "data": {
      "image/png": "[encoded data removed]",
      "text/plain": [
       "<Figure size 432x288 with 1 Axes>"
      ]
     },
     "metadata": {
      "needs_background": "light"
     },
     "output_type": "display_data"
    }
   ],
   "source": [
    "plt.scatter(X_mod[:, 0], X_mod[:, 1], c=y)"
   ]
  },
  {
   "cell_type": "code",
   "execution_count": 43,
   "metadata": {},
   "outputs": [],
   "source": [
    "X_regen = np.dot(X_mod, model.components_)"
   ]
  },
  {
   "cell_type": "code",
   "execution_count": 44,
   "metadata": {},
   "outputs": [
    {
     "data": {
      "text/plain": [
       "array([[-2.40954626,  8.51081047,  3.08921541,  2.04173266, -7.9419309 ],\n",
       "       [-0.74374338,  9.41926784,  3.37899488,  2.89103163, -4.75747099],\n",
       "       [-3.83738367,  9.21114736,  5.37834542,  2.14453797, -6.99527547],\n",
       "       [-3.32987994,  9.97766226,  5.05265976,  2.79522984, -4.98283421],\n",
       "       [-1.69568041,  7.78342181,  4.86733877,  3.28031244, -8.48711043],\n",
       "       [-4.78772232, -9.84434514,  6.1093343 ,  3.18041111,  4.95311425],\n",
       "       [-8.58349203, -8.89387546,  7.70758836,  1.98960549,  2.09400946],\n",
       "       [-6.06724747, -8.20869891,  6.4945279 ,  1.46211919,  4.90874516],\n",
       "       [-7.74139379, -7.31520368,  7.86243296,  0.98505408,  3.97111288],\n",
       "       [-0.04595551,  8.82192516,  4.94142618,  1.93845791, -8.04830523]])"
      ]
     },
     "execution_count": 44,
     "metadata": {},
     "output_type": "execute_result"
    }
   ],
   "source": [
    "X[:10]"
   ]
  },
  {
   "cell_type": "code",
   "execution_count": 45,
   "metadata": {},
   "outputs": [
    {
     "data": {
      "text/plain": [
       "array([[  0.81359241,   8.45707525,  -0.06963672,  -2.14700172,\n",
       "         -6.06560057],\n",
       "       [  1.58992835,   8.0923995 ,  -0.92442222,  -0.45083981,\n",
       "         -5.06215446],\n",
       "       [  0.30563931,   8.04534469,   0.42886121,  -2.96804829,\n",
       "         -6.1985121 ],\n",
       "       [  0.85403413,   7.9190831 ,  -0.16267355,  -1.82821345,\n",
       "         -5.59544275],\n",
       "       [  0.84441375,   8.12303781,  -0.13344055,  -1.93778031,\n",
       "         -5.76845938],\n",
       "       [ -2.64968025, -10.36089914,   1.83270734,  -0.63631779,\n",
       "          5.9197609 ],\n",
       "       [ -3.94242824,  -9.43493949,   3.28587695,  -3.60225467,\n",
       "          3.99221586],\n",
       "       [ -3.18811454,  -9.52589876,   2.47995538,  -2.07114275,\n",
       "          4.75513524],\n",
       "       [ -3.77250092,  -8.9933755 ,   3.14751016,  -3.46248377,\n",
       "          3.79204386],\n",
       "       [  0.94108232,   8.90689986,  -0.16236887,  -2.0947662 ,\n",
       "         -6.31122504]])"
      ]
     },
     "execution_count": 45,
     "metadata": {},
     "output_type": "execute_result"
    }
   ],
   "source": [
    "X_regen[:10]"
   ]
  },
  {
   "cell_type": "code",
   "execution_count": null,
   "metadata": {},
   "outputs": [],
   "source": []
  }
 ],
 "metadata": {
  "kernelspec": {
   "display_name": "Python 3",
   "language": "python",
   "name": "python3"
  },
  "language_info": {
   "codemirror_mode": {
    "name": "ipython",
    "version": 3
   },
   "file_extension": ".py",
   "mimetype": "text/x-python",
   "name": "python",
   "nbconvert_exporter": "python",
   "pygments_lexer": "ipython3",
   "version": "3.6.10"
  }
 },
 "nbformat": 4,
 "nbformat_minor": 4
}
