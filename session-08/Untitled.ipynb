{
 "cells": [
  {
   "cell_type": "code",
   "execution_count": 45,
   "metadata": {},
   "outputs": [],
   "source": [
    "from PIL import Image\n",
    "import numpy as np\n",
    "import matplotlib.pyplot as plt"
   ]
  },
  {
   "cell_type": "code",
   "execution_count": 46,
   "metadata": {},
   "outputs": [],
   "source": [
    "img = np.zeros((90, 90, 3), dtype=np.uint16)"
   ]
  },
  {
   "cell_type": "code",
   "execution_count": 47,
   "metadata": {},
   "outputs": [],
   "source": [
    "img[:30, :] = (255, 0, 0)\n",
    "img[30:60, :] = (0, 153, 51)\n",
    "img[60:, :] = (0, 0, 255)\n",
    "\n",
    "img[20:-20, 20:-20] = (128, 128, 0)"
   ]
  },
  {
   "cell_type": "code",
   "execution_count": 48,
   "metadata": {},
   "outputs": [
    {
     "data": {
      "text/plain": [
       "(30, 90, 3)"
      ]
     },
     "execution_count": 48,
     "metadata": {},
     "output_type": "execute_result"
    }
   ],
   "source": [
    "img[:30, :].shape"
   ]
  },
  {
   "cell_type": "code",
   "execution_count": 54,
   "metadata": {},
   "outputs": [
    {
     "ename": "ValueError",
     "evalue": "could not broadcast input array from shape (2) into shape (90,90,3)",
     "output_type": "error",
     "traceback": [
      "\u001b[0;31m---------------------------------------------------------------------------\u001b[0m",
      "\u001b[0;31mValueError\u001b[0m                                Traceback (most recent call last)",
      "\u001b[0;32m<ipython-input-54-18e526bbd2da>\u001b[0m in \u001b[0;36m<module>\u001b[0;34m()\u001b[0m\n\u001b[0;32m----> 1\u001b[0;31m \u001b[0mimg\u001b[0m\u001b[0;34m[\u001b[0m\u001b[0;34m:\u001b[0m\u001b[0;34m,\u001b[0m \u001b[0;34m:\u001b[0m\u001b[0;34m]\u001b[0m \u001b[0;34m=\u001b[0m \u001b[0;34m(\u001b[0m\u001b[0;36m100\u001b[0m\u001b[0;34m,\u001b[0m \u001b[0;36m100\u001b[0m\u001b[0;34m)\u001b[0m\u001b[0;34m\u001b[0m\u001b[0;34m\u001b[0m\u001b[0m\n\u001b[0m",
      "\u001b[0;31mValueError\u001b[0m: could not broadcast input array from shape (2) into shape (90,90,3)"
     ]
    }
   ],
   "source": [
    "img[:, :] = (100, 100)"
   ]
  },
  {
   "cell_type": "code",
   "execution_count": 53,
   "metadata": {},
   "outputs": [
    {
     "data": {
      "text/plain": [
       "array([[[100, 100,   0],\n",
       "        [100, 100,   0],\n",
       "        [100, 100,   0],\n",
       "        ...,\n",
       "        [100, 100,   0],\n",
       "        [100, 100,   0],\n",
       "        [100, 100,   0]],\n",
       "\n",
       "       [[100, 100,   0],\n",
       "        [100, 100,   0],\n",
       "        [100, 100,   0],\n",
       "        ...,\n",
       "        [100, 100,   0],\n",
       "        [100, 100,   0],\n",
       "        [100, 100,   0]],\n",
       "\n",
       "       [[100, 100,   0],\n",
       "        [100, 100,   0],\n",
       "        [100, 100,   0],\n",
       "        ...,\n",
       "        [100, 100,   0],\n",
       "        [100, 100,   0],\n",
       "        [100, 100,   0]],\n",
       "\n",
       "       ...,\n",
       "\n",
       "       [[100, 100,   0],\n",
       "        [100, 100,   0],\n",
       "        [100, 100,   0],\n",
       "        ...,\n",
       "        [100, 100,   0],\n",
       "        [100, 100,   0],\n",
       "        [100, 100,   0]],\n",
       "\n",
       "       [[100, 100,   0],\n",
       "        [100, 100,   0],\n",
       "        [100, 100,   0],\n",
       "        ...,\n",
       "        [100, 100,   0],\n",
       "        [100, 100,   0],\n",
       "        [100, 100,   0]],\n",
       "\n",
       "       [[100, 100,   0],\n",
       "        [100, 100,   0],\n",
       "        [100, 100,   0],\n",
       "        ...,\n",
       "        [100, 100,   0],\n",
       "        [100, 100,   0],\n",
       "        [100, 100,   0]]], dtype=uint16)"
      ]
     },
     "execution_count": 53,
     "metadata": {},
     "output_type": "execute_result"
    }
   ],
   "source": [
    "img"
   ]
  },
  {
   "cell_type": "code",
   "execution_count": null,
   "metadata": {},
   "outputs": [],
   "source": []
  }
 ],
 "metadata": {
  "kernelspec": {
   "display_name": "Python 3",
   "language": "python",
   "name": "python3"
  },
  "language_info": {
   "codemirror_mode": {
    "name": "ipython",
    "version": 3
   },
   "file_extension": ".py",
   "mimetype": "text/x-python",
   "name": "python",
   "nbconvert_exporter": "python",
   "pygments_lexer": "ipython3",
   "version": "3.7.2"
  }
 },
 "nbformat": 4,
 "nbformat_minor": 4
}
